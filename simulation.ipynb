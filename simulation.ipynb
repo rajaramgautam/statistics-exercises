{
 "cells": [
  {
   "cell_type": "markdown",
   "id": "a902399d",
   "metadata": {},
   "source": [
    "# Within your codeup-data-science directory, create a directory named statistics-exercises. This will be where you do your work for this module. Create a repository on GitHub with the same name, and link your local repository to GitHub.\n",
    "\n",
    "# Do your work for this exercise in either a python file named simulation.py or a jupyter notebook named simulation.ipynb."
   ]
  },
  {
   "cell_type": "markdown",
   "id": "c5ab6f82",
   "metadata": {},
   "source": [
    "# 1. How likely is it that you roll doubles when rolling two dice?"
   ]
  },
  {
   "cell_type": "code",
   "execution_count": 4,
   "id": "09a0ad3d",
   "metadata": {},
   "outputs": [],
   "source": [
    "%matplotlib inline\n",
    "import numpy as np\n",
    "import pandas as pd\n",
    "\n",
    "import viz # curriculum example visualizations\n",
    "\n",
    "np.random.seed(29)"
   ]
  },
  {
   "cell_type": "code",
   "execution_count": 24,
   "id": "68ede8d3",
   "metadata": {},
   "outputs": [
    {
     "data": {
      "text/plain": [
       "array([[6, 4],\n",
       "       [5, 6],\n",
       "       [3, 1],\n",
       "       ...,\n",
       "       [3, 6],\n",
       "       [1, 6],\n",
       "       [3, 1]])"
      ]
     },
     "execution_count": 24,
     "metadata": {},
     "output_type": "execute_result"
    }
   ],
   "source": [
    "n_trials = n_rows = 1_000\n",
    "n_dice = n_cols = 2\n",
    "rolls = np.random.choice([1, 2, 3, 4, 5, 6], n_trials * n_dice).reshape(n_rows, n_cols)\n",
    "rolls"
   ]
  },
  {
   "cell_type": "code",
   "execution_count": 25,
   "id": "c2351ef2",
   "metadata": {},
   "outputs": [
    {
     "data": {
      "text/plain": [
       "0.1627"
      ]
     },
     "execution_count": 25,
     "metadata": {},
     "output_type": "execute_result"
    }
   ],
   "source": [
    "dice1= np.random.choice([1,2,3,4,5,6],10000)\n",
    "dice2=np.random.choice([1,2,3,4,5,6],10000)\n",
    "samesies= dice1==dice2\n",
    "samesies.mean()"
   ]
  },
  {
   "cell_type": "markdown",
   "id": "a987d989",
   "metadata": {},
   "source": [
    "# Next Method"
   ]
  },
  {
   "cell_type": "code",
   "execution_count": 3,
   "id": "36f3edf6",
   "metadata": {},
   "outputs": [],
   "source": [
    "# set number of trials and events per trial\n",
    "\n",
    "nrows = 100_000 # number of trials\n",
    "ncols = 2       # number of random events in each trial"
   ]
  },
  {
   "cell_type": "code",
   "execution_count": 5,
   "id": "8c2445d2",
   "metadata": {},
   "outputs": [
    {
     "data": {
      "text/plain": [
       "array([6, 4, 5, ..., 5, 6, 5])"
      ]
     },
     "execution_count": 5,
     "metadata": {},
     "output_type": "execute_result"
    }
   ],
   "source": [
    "# generate an array of randomly generated numbers from 1-6 equal to the number of rows times the number of columns\n",
    "# to generate all of the values for the study\n",
    "np.random.choice([1, 2, 3, 4, 5, 6], nrows * ncols)"
   ]
  },
  {
   "cell_type": "code",
   "execution_count": 6,
   "id": "1a871ff4",
   "metadata": {},
   "outputs": [
    {
     "data": {
      "text/plain": [
       "array([[2, 6],\n",
       "       [6, 1],\n",
       "       [5, 2],\n",
       "       ...,\n",
       "       [2, 5],\n",
       "       [4, 6],\n",
       "       [3, 2]])"
      ]
     },
     "execution_count": 6,
     "metadata": {},
     "output_type": "execute_result"
    }
   ],
   "source": [
    "# add .reshape to reshape the array by the number of rows and number of columns to create trial groups\n",
    "rolls = np.random.choice([1, 2, 3, 4, 5, 6], nrows * ncols).reshape(nrows, ncols)\n",
    "rolls"
   ]
  },
  {
   "cell_type": "code",
   "execution_count": 7,
   "id": "6b734a58",
   "metadata": {},
   "outputs": [
    {
     "data": {
      "text/html": [
       "<div>\n",
       "<style scoped>\n",
       "    .dataframe tbody tr th:only-of-type {\n",
       "        vertical-align: middle;\n",
       "    }\n",
       "\n",
       "    .dataframe tbody tr th {\n",
       "        vertical-align: top;\n",
       "    }\n",
       "\n",
       "    .dataframe thead th {\n",
       "        text-align: right;\n",
       "    }\n",
       "</style>\n",
       "<table border=\"1\" class=\"dataframe\">\n",
       "  <thead>\n",
       "    <tr style=\"text-align: right;\">\n",
       "      <th></th>\n",
       "      <th>0</th>\n",
       "      <th>1</th>\n",
       "    </tr>\n",
       "  </thead>\n",
       "  <tbody>\n",
       "    <tr>\n",
       "      <th>0</th>\n",
       "      <td>2</td>\n",
       "      <td>6</td>\n",
       "    </tr>\n",
       "    <tr>\n",
       "      <th>1</th>\n",
       "      <td>6</td>\n",
       "      <td>1</td>\n",
       "    </tr>\n",
       "    <tr>\n",
       "      <th>2</th>\n",
       "      <td>5</td>\n",
       "      <td>2</td>\n",
       "    </tr>\n",
       "    <tr>\n",
       "      <th>3</th>\n",
       "      <td>5</td>\n",
       "      <td>2</td>\n",
       "    </tr>\n",
       "    <tr>\n",
       "      <th>4</th>\n",
       "      <td>6</td>\n",
       "      <td>1</td>\n",
       "    </tr>\n",
       "  </tbody>\n",
       "</table>\n",
       "</div>"
      ],
      "text/plain": [
       "   0  1\n",
       "0  2  6\n",
       "1  6  1\n",
       "2  5  2\n",
       "3  5  2\n",
       "4  6  1"
      ]
     },
     "execution_count": 7,
     "metadata": {},
     "output_type": "execute_result"
    }
   ],
   "source": [
    "# convert to data frame\n",
    "df = pd.DataFrame(rolls)\n",
    "df.head()"
   ]
  },
  {
   "cell_type": "code",
   "execution_count": 8,
   "id": "b17321d5",
   "metadata": {},
   "outputs": [
    {
     "data": {
      "text/plain": [
       "0        False\n",
       "1        False\n",
       "2        False\n",
       "3        False\n",
       "4        False\n",
       "         ...  \n",
       "99995    False\n",
       "99996    False\n",
       "99997    False\n",
       "99998    False\n",
       "99999    False\n",
       "Length: 100000, dtype: bool"
      ]
     },
     "execution_count": 8,
     "metadata": {},
     "output_type": "execute_result"
    }
   ],
   "source": [
    "# add .apply create an array that checks weather each row contains matching numbers\n",
    "df.apply(lambda row: row[0] == row[1], axis=1)"
   ]
  },
  {
   "cell_type": "code",
   "execution_count": 9,
   "id": "692b1017",
   "metadata": {},
   "outputs": [
    {
     "data": {
      "text/plain": [
       "0.16819"
      ]
     },
     "execution_count": 9,
     "metadata": {},
     "output_type": "execute_result"
    }
   ],
   "source": [
    "# add .mean to get the mean of that array to get the odds of rolling doubles on two six sided dice\n",
    "df.apply(lambda row: row.values[0] == row.values[1], axis=1).mean()"
   ]
  },
  {
   "cell_type": "markdown",
   "id": "c16248ad",
   "metadata": {},
   "source": [
    "# 2. If you flip 8 coins, what is the probability of getting exactly 3 heads? What is the probability of getting more than 3 heads?"
   ]
  },
  {
   "cell_type": "code",
   "execution_count": 24,
   "id": "3a60262e",
   "metadata": {},
   "outputs": [
    {
     "data": {
      "text/plain": [
       "0.21844"
      ]
     },
     "execution_count": 24,
     "metadata": {},
     "output_type": "execute_result"
    }
   ],
   "source": [
    "nrows = 100_000\n",
    "ncols = 8\n",
    "np.random.choice([True, False], nrows * ncols)\n",
    "rolls = np.random.choice([True, False], nrows * ncols).reshape(nrows, ncols)\n",
    "rolls\n",
    "df = pd.DataFrame(rolls)\n",
    "df.head()\n",
    "three_heads = df.apply(lambda row: row.values.sum() == 3, axis=1).mean()\n",
    "more_than_three_heads = df.apply(lambda row: row.values.sum() > 3, axis=1).mean()\n",
    "three_heads"
   ]
  },
  {
   "cell_type": "code",
   "execution_count": 25,
   "id": "b38da016",
   "metadata": {},
   "outputs": [
    {
     "data": {
      "text/plain": [
       "0.63785"
      ]
     },
     "execution_count": 25,
     "metadata": {},
     "output_type": "execute_result"
    }
   ],
   "source": [
    "more_than_three_heads"
   ]
  },
  {
   "cell_type": "markdown",
   "id": "c0e2f7e4",
   "metadata": {},
   "source": [
    "# Next Method"
   ]
  },
  {
   "cell_type": "code",
   "execution_count": 26,
   "id": "5cc09ba3",
   "metadata": {},
   "outputs": [
    {
     "data": {
      "text/plain": [
       "array([['heads', 'heads', 'heads', ..., 'heads', 'Tails', 'heads'],\n",
       "       ['heads', 'Tails', 'Tails', ..., 'heads', 'Tails', 'Tails'],\n",
       "       ['heads', 'Tails', 'heads', ..., 'heads', 'heads', 'Tails'],\n",
       "       ...,\n",
       "       ['Tails', 'Tails', 'heads', ..., 'heads', 'heads', 'heads'],\n",
       "       ['heads', 'heads', 'Tails', ..., 'Tails', 'heads', 'Tails'],\n",
       "       ['Tails', 'heads', 'heads', ..., 'heads', 'heads', 'Tails']],\n",
       "      dtype='<U5')"
      ]
     },
     "execution_count": 26,
     "metadata": {},
     "output_type": "execute_result"
    }
   ],
   "source": [
    "trails= 1000\n",
    "coins= 8 \n",
    "flips =np.random.choice([\"heads\", \"Tails\"], size =(trails, coins))\n",
    "flips "
   ]
  },
  {
   "cell_type": "code",
   "execution_count": 27,
   "id": "012a558b",
   "metadata": {
    "scrolled": true
   },
   "outputs": [
    {
     "data": {
      "text/html": [
       "<div>\n",
       "<style scoped>\n",
       "    .dataframe tbody tr th:only-of-type {\n",
       "        vertical-align: middle;\n",
       "    }\n",
       "\n",
       "    .dataframe tbody tr th {\n",
       "        vertical-align: top;\n",
       "    }\n",
       "\n",
       "    .dataframe thead th {\n",
       "        text-align: right;\n",
       "    }\n",
       "</style>\n",
       "<table border=\"1\" class=\"dataframe\">\n",
       "  <thead>\n",
       "    <tr style=\"text-align: right;\">\n",
       "      <th></th>\n",
       "      <th>first_coin</th>\n",
       "      <th>second_coin</th>\n",
       "      <th>third_coin</th>\n",
       "      <th>fourth_coin</th>\n",
       "      <th>fifth_coin</th>\n",
       "      <th>sixth_coin</th>\n",
       "      <th>seventh_coin</th>\n",
       "      <th>eighth_coin</th>\n",
       "    </tr>\n",
       "  </thead>\n",
       "  <tbody>\n",
       "    <tr>\n",
       "      <th>0</th>\n",
       "      <td>heads</td>\n",
       "      <td>heads</td>\n",
       "      <td>heads</td>\n",
       "      <td>Tails</td>\n",
       "      <td>Tails</td>\n",
       "      <td>heads</td>\n",
       "      <td>Tails</td>\n",
       "      <td>heads</td>\n",
       "    </tr>\n",
       "    <tr>\n",
       "      <th>1</th>\n",
       "      <td>heads</td>\n",
       "      <td>Tails</td>\n",
       "      <td>Tails</td>\n",
       "      <td>Tails</td>\n",
       "      <td>heads</td>\n",
       "      <td>heads</td>\n",
       "      <td>Tails</td>\n",
       "      <td>Tails</td>\n",
       "    </tr>\n",
       "    <tr>\n",
       "      <th>2</th>\n",
       "      <td>heads</td>\n",
       "      <td>Tails</td>\n",
       "      <td>heads</td>\n",
       "      <td>Tails</td>\n",
       "      <td>heads</td>\n",
       "      <td>heads</td>\n",
       "      <td>heads</td>\n",
       "      <td>Tails</td>\n",
       "    </tr>\n",
       "    <tr>\n",
       "      <th>3</th>\n",
       "      <td>heads</td>\n",
       "      <td>heads</td>\n",
       "      <td>heads</td>\n",
       "      <td>heads</td>\n",
       "      <td>heads</td>\n",
       "      <td>heads</td>\n",
       "      <td>Tails</td>\n",
       "      <td>Tails</td>\n",
       "    </tr>\n",
       "    <tr>\n",
       "      <th>4</th>\n",
       "      <td>heads</td>\n",
       "      <td>heads</td>\n",
       "      <td>Tails</td>\n",
       "      <td>heads</td>\n",
       "      <td>Tails</td>\n",
       "      <td>Tails</td>\n",
       "      <td>Tails</td>\n",
       "      <td>Tails</td>\n",
       "    </tr>\n",
       "    <tr>\n",
       "      <th>5</th>\n",
       "      <td>Tails</td>\n",
       "      <td>Tails</td>\n",
       "      <td>heads</td>\n",
       "      <td>heads</td>\n",
       "      <td>heads</td>\n",
       "      <td>heads</td>\n",
       "      <td>heads</td>\n",
       "      <td>Tails</td>\n",
       "    </tr>\n",
       "    <tr>\n",
       "      <th>6</th>\n",
       "      <td>Tails</td>\n",
       "      <td>heads</td>\n",
       "      <td>heads</td>\n",
       "      <td>heads</td>\n",
       "      <td>Tails</td>\n",
       "      <td>heads</td>\n",
       "      <td>Tails</td>\n",
       "      <td>Tails</td>\n",
       "    </tr>\n",
       "    <tr>\n",
       "      <th>7</th>\n",
       "      <td>Tails</td>\n",
       "      <td>Tails</td>\n",
       "      <td>Tails</td>\n",
       "      <td>Tails</td>\n",
       "      <td>heads</td>\n",
       "      <td>heads</td>\n",
       "      <td>heads</td>\n",
       "      <td>heads</td>\n",
       "    </tr>\n",
       "    <tr>\n",
       "      <th>8</th>\n",
       "      <td>heads</td>\n",
       "      <td>heads</td>\n",
       "      <td>heads</td>\n",
       "      <td>heads</td>\n",
       "      <td>heads</td>\n",
       "      <td>Tails</td>\n",
       "      <td>Tails</td>\n",
       "      <td>heads</td>\n",
       "    </tr>\n",
       "    <tr>\n",
       "      <th>9</th>\n",
       "      <td>heads</td>\n",
       "      <td>heads</td>\n",
       "      <td>heads</td>\n",
       "      <td>Tails</td>\n",
       "      <td>heads</td>\n",
       "      <td>Tails</td>\n",
       "      <td>Tails</td>\n",
       "      <td>Tails</td>\n",
       "    </tr>\n",
       "    <tr>\n",
       "      <th>10</th>\n",
       "      <td>Tails</td>\n",
       "      <td>Tails</td>\n",
       "      <td>Tails</td>\n",
       "      <td>Tails</td>\n",
       "      <td>Tails</td>\n",
       "      <td>Tails</td>\n",
       "      <td>heads</td>\n",
       "      <td>heads</td>\n",
       "    </tr>\n",
       "    <tr>\n",
       "      <th>11</th>\n",
       "      <td>Tails</td>\n",
       "      <td>heads</td>\n",
       "      <td>Tails</td>\n",
       "      <td>Tails</td>\n",
       "      <td>heads</td>\n",
       "      <td>heads</td>\n",
       "      <td>Tails</td>\n",
       "      <td>Tails</td>\n",
       "    </tr>\n",
       "    <tr>\n",
       "      <th>12</th>\n",
       "      <td>Tails</td>\n",
       "      <td>Tails</td>\n",
       "      <td>heads</td>\n",
       "      <td>heads</td>\n",
       "      <td>Tails</td>\n",
       "      <td>heads</td>\n",
       "      <td>Tails</td>\n",
       "      <td>heads</td>\n",
       "    </tr>\n",
       "    <tr>\n",
       "      <th>13</th>\n",
       "      <td>heads</td>\n",
       "      <td>heads</td>\n",
       "      <td>Tails</td>\n",
       "      <td>Tails</td>\n",
       "      <td>Tails</td>\n",
       "      <td>Tails</td>\n",
       "      <td>Tails</td>\n",
       "      <td>heads</td>\n",
       "    </tr>\n",
       "    <tr>\n",
       "      <th>14</th>\n",
       "      <td>heads</td>\n",
       "      <td>Tails</td>\n",
       "      <td>Tails</td>\n",
       "      <td>Tails</td>\n",
       "      <td>heads</td>\n",
       "      <td>heads</td>\n",
       "      <td>heads</td>\n",
       "      <td>heads</td>\n",
       "    </tr>\n",
       "    <tr>\n",
       "      <th>15</th>\n",
       "      <td>heads</td>\n",
       "      <td>Tails</td>\n",
       "      <td>Tails</td>\n",
       "      <td>heads</td>\n",
       "      <td>heads</td>\n",
       "      <td>heads</td>\n",
       "      <td>Tails</td>\n",
       "      <td>Tails</td>\n",
       "    </tr>\n",
       "    <tr>\n",
       "      <th>16</th>\n",
       "      <td>Tails</td>\n",
       "      <td>heads</td>\n",
       "      <td>heads</td>\n",
       "      <td>Tails</td>\n",
       "      <td>Tails</td>\n",
       "      <td>heads</td>\n",
       "      <td>heads</td>\n",
       "      <td>Tails</td>\n",
       "    </tr>\n",
       "    <tr>\n",
       "      <th>17</th>\n",
       "      <td>heads</td>\n",
       "      <td>Tails</td>\n",
       "      <td>heads</td>\n",
       "      <td>Tails</td>\n",
       "      <td>heads</td>\n",
       "      <td>Tails</td>\n",
       "      <td>Tails</td>\n",
       "      <td>Tails</td>\n",
       "    </tr>\n",
       "    <tr>\n",
       "      <th>18</th>\n",
       "      <td>Tails</td>\n",
       "      <td>heads</td>\n",
       "      <td>heads</td>\n",
       "      <td>Tails</td>\n",
       "      <td>Tails</td>\n",
       "      <td>heads</td>\n",
       "      <td>Tails</td>\n",
       "      <td>Tails</td>\n",
       "    </tr>\n",
       "    <tr>\n",
       "      <th>19</th>\n",
       "      <td>heads</td>\n",
       "      <td>Tails</td>\n",
       "      <td>heads</td>\n",
       "      <td>Tails</td>\n",
       "      <td>Tails</td>\n",
       "      <td>Tails</td>\n",
       "      <td>heads</td>\n",
       "      <td>heads</td>\n",
       "    </tr>\n",
       "  </tbody>\n",
       "</table>\n",
       "</div>"
      ],
      "text/plain": [
       "   first_coin second_coin third_coin fourth_coin fifth_coin sixth_coin  \\\n",
       "0       heads       heads      heads       Tails      Tails      heads   \n",
       "1       heads       Tails      Tails       Tails      heads      heads   \n",
       "2       heads       Tails      heads       Tails      heads      heads   \n",
       "3       heads       heads      heads       heads      heads      heads   \n",
       "4       heads       heads      Tails       heads      Tails      Tails   \n",
       "5       Tails       Tails      heads       heads      heads      heads   \n",
       "6       Tails       heads      heads       heads      Tails      heads   \n",
       "7       Tails       Tails      Tails       Tails      heads      heads   \n",
       "8       heads       heads      heads       heads      heads      Tails   \n",
       "9       heads       heads      heads       Tails      heads      Tails   \n",
       "10      Tails       Tails      Tails       Tails      Tails      Tails   \n",
       "11      Tails       heads      Tails       Tails      heads      heads   \n",
       "12      Tails       Tails      heads       heads      Tails      heads   \n",
       "13      heads       heads      Tails       Tails      Tails      Tails   \n",
       "14      heads       Tails      Tails       Tails      heads      heads   \n",
       "15      heads       Tails      Tails       heads      heads      heads   \n",
       "16      Tails       heads      heads       Tails      Tails      heads   \n",
       "17      heads       Tails      heads       Tails      heads      Tails   \n",
       "18      Tails       heads      heads       Tails      Tails      heads   \n",
       "19      heads       Tails      heads       Tails      Tails      Tails   \n",
       "\n",
       "   seventh_coin eighth_coin  \n",
       "0         Tails       heads  \n",
       "1         Tails       Tails  \n",
       "2         heads       Tails  \n",
       "3         Tails       Tails  \n",
       "4         Tails       Tails  \n",
       "5         heads       Tails  \n",
       "6         Tails       Tails  \n",
       "7         heads       heads  \n",
       "8         Tails       heads  \n",
       "9         Tails       Tails  \n",
       "10        heads       heads  \n",
       "11        Tails       Tails  \n",
       "12        Tails       heads  \n",
       "13        Tails       heads  \n",
       "14        heads       heads  \n",
       "15        Tails       Tails  \n",
       "16        heads       Tails  \n",
       "17        Tails       Tails  \n",
       "18        Tails       Tails  \n",
       "19        heads       heads  "
      ]
     },
     "execution_count": 27,
     "metadata": {},
     "output_type": "execute_result"
    }
   ],
   "source": [
    "flips = pd.DataFrame(flips, columns=[\"first_coin\", \"second_coin\",\"third_coin\", \"fourth_coin\", \"fifth_coin\", \"sixth_coin\", \"seventh_coin\",\"eighth_coin\"])\n",
    "flips.head(20)"
   ]
  },
  {
   "cell_type": "code",
   "execution_count": 28,
   "id": "3386ad74",
   "metadata": {},
   "outputs": [],
   "source": [
    "def count_heads(row):\n",
    "  return row.first_coin.count(\"heads\") + row.second_coin.count(\"heads\")+row.third_coin.count(\"heads\")+row.fourth_coin.count(\"heads\")+row.fifth_coin.count(\"heads\")+row.sixth_coin.count(\"heads\")+row.seventh_coin.count(\"heads\")+row.eighth_coin.count(\"heads\")"
   ]
  },
  {
   "cell_type": "code",
   "execution_count": 29,
   "id": "65bd032b",
   "metadata": {},
   "outputs": [
    {
     "data": {
      "text/html": [
       "<div>\n",
       "<style scoped>\n",
       "    .dataframe tbody tr th:only-of-type {\n",
       "        vertical-align: middle;\n",
       "    }\n",
       "\n",
       "    .dataframe tbody tr th {\n",
       "        vertical-align: top;\n",
       "    }\n",
       "\n",
       "    .dataframe thead th {\n",
       "        text-align: right;\n",
       "    }\n",
       "</style>\n",
       "<table border=\"1\" class=\"dataframe\">\n",
       "  <thead>\n",
       "    <tr style=\"text-align: right;\">\n",
       "      <th></th>\n",
       "      <th>first_coin</th>\n",
       "      <th>second_coin</th>\n",
       "      <th>third_coin</th>\n",
       "      <th>fourth_coin</th>\n",
       "      <th>fifth_coin</th>\n",
       "      <th>sixth_coin</th>\n",
       "      <th>seventh_coin</th>\n",
       "      <th>eighth_coin</th>\n",
       "      <th>head_count</th>\n",
       "    </tr>\n",
       "  </thead>\n",
       "  <tbody>\n",
       "    <tr>\n",
       "      <th>0</th>\n",
       "      <td>heads</td>\n",
       "      <td>heads</td>\n",
       "      <td>heads</td>\n",
       "      <td>Tails</td>\n",
       "      <td>Tails</td>\n",
       "      <td>heads</td>\n",
       "      <td>Tails</td>\n",
       "      <td>heads</td>\n",
       "      <td>5</td>\n",
       "    </tr>\n",
       "    <tr>\n",
       "      <th>1</th>\n",
       "      <td>heads</td>\n",
       "      <td>Tails</td>\n",
       "      <td>Tails</td>\n",
       "      <td>Tails</td>\n",
       "      <td>heads</td>\n",
       "      <td>heads</td>\n",
       "      <td>Tails</td>\n",
       "      <td>Tails</td>\n",
       "      <td>3</td>\n",
       "    </tr>\n",
       "    <tr>\n",
       "      <th>2</th>\n",
       "      <td>heads</td>\n",
       "      <td>Tails</td>\n",
       "      <td>heads</td>\n",
       "      <td>Tails</td>\n",
       "      <td>heads</td>\n",
       "      <td>heads</td>\n",
       "      <td>heads</td>\n",
       "      <td>Tails</td>\n",
       "      <td>5</td>\n",
       "    </tr>\n",
       "    <tr>\n",
       "      <th>3</th>\n",
       "      <td>heads</td>\n",
       "      <td>heads</td>\n",
       "      <td>heads</td>\n",
       "      <td>heads</td>\n",
       "      <td>heads</td>\n",
       "      <td>heads</td>\n",
       "      <td>Tails</td>\n",
       "      <td>Tails</td>\n",
       "      <td>6</td>\n",
       "    </tr>\n",
       "    <tr>\n",
       "      <th>4</th>\n",
       "      <td>heads</td>\n",
       "      <td>heads</td>\n",
       "      <td>Tails</td>\n",
       "      <td>heads</td>\n",
       "      <td>Tails</td>\n",
       "      <td>Tails</td>\n",
       "      <td>Tails</td>\n",
       "      <td>Tails</td>\n",
       "      <td>3</td>\n",
       "    </tr>\n",
       "    <tr>\n",
       "      <th>...</th>\n",
       "      <td>...</td>\n",
       "      <td>...</td>\n",
       "      <td>...</td>\n",
       "      <td>...</td>\n",
       "      <td>...</td>\n",
       "      <td>...</td>\n",
       "      <td>...</td>\n",
       "      <td>...</td>\n",
       "      <td>...</td>\n",
       "    </tr>\n",
       "    <tr>\n",
       "      <th>995</th>\n",
       "      <td>heads</td>\n",
       "      <td>Tails</td>\n",
       "      <td>heads</td>\n",
       "      <td>Tails</td>\n",
       "      <td>Tails</td>\n",
       "      <td>heads</td>\n",
       "      <td>heads</td>\n",
       "      <td>heads</td>\n",
       "      <td>5</td>\n",
       "    </tr>\n",
       "    <tr>\n",
       "      <th>996</th>\n",
       "      <td>heads</td>\n",
       "      <td>Tails</td>\n",
       "      <td>Tails</td>\n",
       "      <td>Tails</td>\n",
       "      <td>Tails</td>\n",
       "      <td>Tails</td>\n",
       "      <td>Tails</td>\n",
       "      <td>Tails</td>\n",
       "      <td>1</td>\n",
       "    </tr>\n",
       "    <tr>\n",
       "      <th>997</th>\n",
       "      <td>Tails</td>\n",
       "      <td>Tails</td>\n",
       "      <td>heads</td>\n",
       "      <td>Tails</td>\n",
       "      <td>Tails</td>\n",
       "      <td>heads</td>\n",
       "      <td>heads</td>\n",
       "      <td>heads</td>\n",
       "      <td>4</td>\n",
       "    </tr>\n",
       "    <tr>\n",
       "      <th>998</th>\n",
       "      <td>heads</td>\n",
       "      <td>heads</td>\n",
       "      <td>Tails</td>\n",
       "      <td>Tails</td>\n",
       "      <td>Tails</td>\n",
       "      <td>Tails</td>\n",
       "      <td>heads</td>\n",
       "      <td>Tails</td>\n",
       "      <td>3</td>\n",
       "    </tr>\n",
       "    <tr>\n",
       "      <th>999</th>\n",
       "      <td>Tails</td>\n",
       "      <td>heads</td>\n",
       "      <td>heads</td>\n",
       "      <td>heads</td>\n",
       "      <td>heads</td>\n",
       "      <td>heads</td>\n",
       "      <td>heads</td>\n",
       "      <td>Tails</td>\n",
       "      <td>6</td>\n",
       "    </tr>\n",
       "  </tbody>\n",
       "</table>\n",
       "<p>1000 rows × 9 columns</p>\n",
       "</div>"
      ],
      "text/plain": [
       "    first_coin second_coin third_coin fourth_coin fifth_coin sixth_coin  \\\n",
       "0        heads       heads      heads       Tails      Tails      heads   \n",
       "1        heads       Tails      Tails       Tails      heads      heads   \n",
       "2        heads       Tails      heads       Tails      heads      heads   \n",
       "3        heads       heads      heads       heads      heads      heads   \n",
       "4        heads       heads      Tails       heads      Tails      Tails   \n",
       "..         ...         ...        ...         ...        ...        ...   \n",
       "995      heads       Tails      heads       Tails      Tails      heads   \n",
       "996      heads       Tails      Tails       Tails      Tails      Tails   \n",
       "997      Tails       Tails      heads       Tails      Tails      heads   \n",
       "998      heads       heads      Tails       Tails      Tails      Tails   \n",
       "999      Tails       heads      heads       heads      heads      heads   \n",
       "\n",
       "    seventh_coin eighth_coin  head_count  \n",
       "0          Tails       heads           5  \n",
       "1          Tails       Tails           3  \n",
       "2          heads       Tails           5  \n",
       "3          Tails       Tails           6  \n",
       "4          Tails       Tails           3  \n",
       "..           ...         ...         ...  \n",
       "995        heads       heads           5  \n",
       "996        Tails       Tails           1  \n",
       "997        heads       heads           4  \n",
       "998        heads       Tails           3  \n",
       "999        heads       Tails           6  \n",
       "\n",
       "[1000 rows x 9 columns]"
      ]
     },
     "execution_count": 29,
     "metadata": {},
     "output_type": "execute_result"
    }
   ],
   "source": [
    "flips[\"head_count\"] = flips.apply(count_heads, axis=1)\n",
    "flips"
   ]
  },
  {
   "cell_type": "code",
   "execution_count": 30,
   "id": "ba8b5d73",
   "metadata": {},
   "outputs": [
    {
     "data": {
      "text/html": [
       "<div>\n",
       "<style scoped>\n",
       "    .dataframe tbody tr th:only-of-type {\n",
       "        vertical-align: middle;\n",
       "    }\n",
       "\n",
       "    .dataframe tbody tr th {\n",
       "        vertical-align: top;\n",
       "    }\n",
       "\n",
       "    .dataframe thead th {\n",
       "        text-align: right;\n",
       "    }\n",
       "</style>\n",
       "<table border=\"1\" class=\"dataframe\">\n",
       "  <thead>\n",
       "    <tr style=\"text-align: right;\">\n",
       "      <th></th>\n",
       "      <th>first_coin</th>\n",
       "      <th>second_coin</th>\n",
       "      <th>third_coin</th>\n",
       "      <th>fourth_coin</th>\n",
       "      <th>fifth_coin</th>\n",
       "      <th>sixth_coin</th>\n",
       "      <th>seventh_coin</th>\n",
       "      <th>eighth_coin</th>\n",
       "      <th>head_count</th>\n",
       "    </tr>\n",
       "  </thead>\n",
       "  <tbody>\n",
       "    <tr>\n",
       "      <th>1</th>\n",
       "      <td>heads</td>\n",
       "      <td>Tails</td>\n",
       "      <td>Tails</td>\n",
       "      <td>Tails</td>\n",
       "      <td>heads</td>\n",
       "      <td>heads</td>\n",
       "      <td>Tails</td>\n",
       "      <td>Tails</td>\n",
       "      <td>3</td>\n",
       "    </tr>\n",
       "    <tr>\n",
       "      <th>4</th>\n",
       "      <td>heads</td>\n",
       "      <td>heads</td>\n",
       "      <td>Tails</td>\n",
       "      <td>heads</td>\n",
       "      <td>Tails</td>\n",
       "      <td>Tails</td>\n",
       "      <td>Tails</td>\n",
       "      <td>Tails</td>\n",
       "      <td>3</td>\n",
       "    </tr>\n",
       "    <tr>\n",
       "      <th>11</th>\n",
       "      <td>Tails</td>\n",
       "      <td>heads</td>\n",
       "      <td>Tails</td>\n",
       "      <td>Tails</td>\n",
       "      <td>heads</td>\n",
       "      <td>heads</td>\n",
       "      <td>Tails</td>\n",
       "      <td>Tails</td>\n",
       "      <td>3</td>\n",
       "    </tr>\n",
       "    <tr>\n",
       "      <th>13</th>\n",
       "      <td>heads</td>\n",
       "      <td>heads</td>\n",
       "      <td>Tails</td>\n",
       "      <td>Tails</td>\n",
       "      <td>Tails</td>\n",
       "      <td>Tails</td>\n",
       "      <td>Tails</td>\n",
       "      <td>heads</td>\n",
       "      <td>3</td>\n",
       "    </tr>\n",
       "    <tr>\n",
       "      <th>17</th>\n",
       "      <td>heads</td>\n",
       "      <td>Tails</td>\n",
       "      <td>heads</td>\n",
       "      <td>Tails</td>\n",
       "      <td>heads</td>\n",
       "      <td>Tails</td>\n",
       "      <td>Tails</td>\n",
       "      <td>Tails</td>\n",
       "      <td>3</td>\n",
       "    </tr>\n",
       "    <tr>\n",
       "      <th>...</th>\n",
       "      <td>...</td>\n",
       "      <td>...</td>\n",
       "      <td>...</td>\n",
       "      <td>...</td>\n",
       "      <td>...</td>\n",
       "      <td>...</td>\n",
       "      <td>...</td>\n",
       "      <td>...</td>\n",
       "      <td>...</td>\n",
       "    </tr>\n",
       "    <tr>\n",
       "      <th>989</th>\n",
       "      <td>heads</td>\n",
       "      <td>Tails</td>\n",
       "      <td>heads</td>\n",
       "      <td>Tails</td>\n",
       "      <td>Tails</td>\n",
       "      <td>heads</td>\n",
       "      <td>Tails</td>\n",
       "      <td>Tails</td>\n",
       "      <td>3</td>\n",
       "    </tr>\n",
       "    <tr>\n",
       "      <th>990</th>\n",
       "      <td>Tails</td>\n",
       "      <td>heads</td>\n",
       "      <td>Tails</td>\n",
       "      <td>Tails</td>\n",
       "      <td>Tails</td>\n",
       "      <td>heads</td>\n",
       "      <td>heads</td>\n",
       "      <td>Tails</td>\n",
       "      <td>3</td>\n",
       "    </tr>\n",
       "    <tr>\n",
       "      <th>992</th>\n",
       "      <td>Tails</td>\n",
       "      <td>Tails</td>\n",
       "      <td>heads</td>\n",
       "      <td>Tails</td>\n",
       "      <td>heads</td>\n",
       "      <td>Tails</td>\n",
       "      <td>Tails</td>\n",
       "      <td>heads</td>\n",
       "      <td>3</td>\n",
       "    </tr>\n",
       "    <tr>\n",
       "      <th>994</th>\n",
       "      <td>heads</td>\n",
       "      <td>Tails</td>\n",
       "      <td>Tails</td>\n",
       "      <td>heads</td>\n",
       "      <td>heads</td>\n",
       "      <td>Tails</td>\n",
       "      <td>Tails</td>\n",
       "      <td>Tails</td>\n",
       "      <td>3</td>\n",
       "    </tr>\n",
       "    <tr>\n",
       "      <th>998</th>\n",
       "      <td>heads</td>\n",
       "      <td>heads</td>\n",
       "      <td>Tails</td>\n",
       "      <td>Tails</td>\n",
       "      <td>Tails</td>\n",
       "      <td>Tails</td>\n",
       "      <td>heads</td>\n",
       "      <td>Tails</td>\n",
       "      <td>3</td>\n",
       "    </tr>\n",
       "  </tbody>\n",
       "</table>\n",
       "<p>245 rows × 9 columns</p>\n",
       "</div>"
      ],
      "text/plain": [
       "    first_coin second_coin third_coin fourth_coin fifth_coin sixth_coin  \\\n",
       "1        heads       Tails      Tails       Tails      heads      heads   \n",
       "4        heads       heads      Tails       heads      Tails      Tails   \n",
       "11       Tails       heads      Tails       Tails      heads      heads   \n",
       "13       heads       heads      Tails       Tails      Tails      Tails   \n",
       "17       heads       Tails      heads       Tails      heads      Tails   \n",
       "..         ...         ...        ...         ...        ...        ...   \n",
       "989      heads       Tails      heads       Tails      Tails      heads   \n",
       "990      Tails       heads      Tails       Tails      Tails      heads   \n",
       "992      Tails       Tails      heads       Tails      heads      Tails   \n",
       "994      heads       Tails      Tails       heads      heads      Tails   \n",
       "998      heads       heads      Tails       Tails      Tails      Tails   \n",
       "\n",
       "    seventh_coin eighth_coin  head_count  \n",
       "1          Tails       Tails           3  \n",
       "4          Tails       Tails           3  \n",
       "11         Tails       Tails           3  \n",
       "13         Tails       heads           3  \n",
       "17         Tails       Tails           3  \n",
       "..           ...         ...         ...  \n",
       "989        Tails       Tails           3  \n",
       "990        heads       Tails           3  \n",
       "992        Tails       heads           3  \n",
       "994        Tails       Tails           3  \n",
       "998        heads       Tails           3  \n",
       "\n",
       "[245 rows x 9 columns]"
      ]
     },
     "execution_count": 30,
     "metadata": {},
     "output_type": "execute_result"
    }
   ],
   "source": [
    "# flipping exactly three heads?\n",
    "flips[(flips.head_count == 3)]"
   ]
  },
  {
   "cell_type": "code",
   "execution_count": 31,
   "id": "1806175f",
   "metadata": {},
   "outputs": [
    {
     "data": {
      "text/html": [
       "<div>\n",
       "<style scoped>\n",
       "    .dataframe tbody tr th:only-of-type {\n",
       "        vertical-align: middle;\n",
       "    }\n",
       "\n",
       "    .dataframe tbody tr th {\n",
       "        vertical-align: top;\n",
       "    }\n",
       "\n",
       "    .dataframe thead th {\n",
       "        text-align: right;\n",
       "    }\n",
       "</style>\n",
       "<table border=\"1\" class=\"dataframe\">\n",
       "  <thead>\n",
       "    <tr style=\"text-align: right;\">\n",
       "      <th></th>\n",
       "      <th>first_coin</th>\n",
       "      <th>second_coin</th>\n",
       "      <th>third_coin</th>\n",
       "      <th>fourth_coin</th>\n",
       "      <th>fifth_coin</th>\n",
       "      <th>sixth_coin</th>\n",
       "      <th>seventh_coin</th>\n",
       "      <th>eighth_coin</th>\n",
       "      <th>head_count</th>\n",
       "    </tr>\n",
       "  </thead>\n",
       "  <tbody>\n",
       "    <tr>\n",
       "      <th>0</th>\n",
       "      <td>heads</td>\n",
       "      <td>heads</td>\n",
       "      <td>heads</td>\n",
       "      <td>Tails</td>\n",
       "      <td>Tails</td>\n",
       "      <td>heads</td>\n",
       "      <td>Tails</td>\n",
       "      <td>heads</td>\n",
       "      <td>5</td>\n",
       "    </tr>\n",
       "    <tr>\n",
       "      <th>2</th>\n",
       "      <td>heads</td>\n",
       "      <td>Tails</td>\n",
       "      <td>heads</td>\n",
       "      <td>Tails</td>\n",
       "      <td>heads</td>\n",
       "      <td>heads</td>\n",
       "      <td>heads</td>\n",
       "      <td>Tails</td>\n",
       "      <td>5</td>\n",
       "    </tr>\n",
       "    <tr>\n",
       "      <th>3</th>\n",
       "      <td>heads</td>\n",
       "      <td>heads</td>\n",
       "      <td>heads</td>\n",
       "      <td>heads</td>\n",
       "      <td>heads</td>\n",
       "      <td>heads</td>\n",
       "      <td>Tails</td>\n",
       "      <td>Tails</td>\n",
       "      <td>6</td>\n",
       "    </tr>\n",
       "    <tr>\n",
       "      <th>5</th>\n",
       "      <td>Tails</td>\n",
       "      <td>Tails</td>\n",
       "      <td>heads</td>\n",
       "      <td>heads</td>\n",
       "      <td>heads</td>\n",
       "      <td>heads</td>\n",
       "      <td>heads</td>\n",
       "      <td>Tails</td>\n",
       "      <td>5</td>\n",
       "    </tr>\n",
       "    <tr>\n",
       "      <th>6</th>\n",
       "      <td>Tails</td>\n",
       "      <td>heads</td>\n",
       "      <td>heads</td>\n",
       "      <td>heads</td>\n",
       "      <td>Tails</td>\n",
       "      <td>heads</td>\n",
       "      <td>Tails</td>\n",
       "      <td>Tails</td>\n",
       "      <td>4</td>\n",
       "    </tr>\n",
       "    <tr>\n",
       "      <th>...</th>\n",
       "      <td>...</td>\n",
       "      <td>...</td>\n",
       "      <td>...</td>\n",
       "      <td>...</td>\n",
       "      <td>...</td>\n",
       "      <td>...</td>\n",
       "      <td>...</td>\n",
       "      <td>...</td>\n",
       "      <td>...</td>\n",
       "    </tr>\n",
       "    <tr>\n",
       "      <th>991</th>\n",
       "      <td>Tails</td>\n",
       "      <td>Tails</td>\n",
       "      <td>Tails</td>\n",
       "      <td>heads</td>\n",
       "      <td>Tails</td>\n",
       "      <td>heads</td>\n",
       "      <td>heads</td>\n",
       "      <td>heads</td>\n",
       "      <td>4</td>\n",
       "    </tr>\n",
       "    <tr>\n",
       "      <th>993</th>\n",
       "      <td>heads</td>\n",
       "      <td>Tails</td>\n",
       "      <td>heads</td>\n",
       "      <td>Tails</td>\n",
       "      <td>heads</td>\n",
       "      <td>Tails</td>\n",
       "      <td>heads</td>\n",
       "      <td>Tails</td>\n",
       "      <td>4</td>\n",
       "    </tr>\n",
       "    <tr>\n",
       "      <th>995</th>\n",
       "      <td>heads</td>\n",
       "      <td>Tails</td>\n",
       "      <td>heads</td>\n",
       "      <td>Tails</td>\n",
       "      <td>Tails</td>\n",
       "      <td>heads</td>\n",
       "      <td>heads</td>\n",
       "      <td>heads</td>\n",
       "      <td>5</td>\n",
       "    </tr>\n",
       "    <tr>\n",
       "      <th>997</th>\n",
       "      <td>Tails</td>\n",
       "      <td>Tails</td>\n",
       "      <td>heads</td>\n",
       "      <td>Tails</td>\n",
       "      <td>Tails</td>\n",
       "      <td>heads</td>\n",
       "      <td>heads</td>\n",
       "      <td>heads</td>\n",
       "      <td>4</td>\n",
       "    </tr>\n",
       "    <tr>\n",
       "      <th>999</th>\n",
       "      <td>Tails</td>\n",
       "      <td>heads</td>\n",
       "      <td>heads</td>\n",
       "      <td>heads</td>\n",
       "      <td>heads</td>\n",
       "      <td>heads</td>\n",
       "      <td>heads</td>\n",
       "      <td>Tails</td>\n",
       "      <td>6</td>\n",
       "    </tr>\n",
       "  </tbody>\n",
       "</table>\n",
       "<p>614 rows × 9 columns</p>\n",
       "</div>"
      ],
      "text/plain": [
       "    first_coin second_coin third_coin fourth_coin fifth_coin sixth_coin  \\\n",
       "0        heads       heads      heads       Tails      Tails      heads   \n",
       "2        heads       Tails      heads       Tails      heads      heads   \n",
       "3        heads       heads      heads       heads      heads      heads   \n",
       "5        Tails       Tails      heads       heads      heads      heads   \n",
       "6        Tails       heads      heads       heads      Tails      heads   \n",
       "..         ...         ...        ...         ...        ...        ...   \n",
       "991      Tails       Tails      Tails       heads      Tails      heads   \n",
       "993      heads       Tails      heads       Tails      heads      Tails   \n",
       "995      heads       Tails      heads       Tails      Tails      heads   \n",
       "997      Tails       Tails      heads       Tails      Tails      heads   \n",
       "999      Tails       heads      heads       heads      heads      heads   \n",
       "\n",
       "    seventh_coin eighth_coin  head_count  \n",
       "0          Tails       heads           5  \n",
       "2          heads       Tails           5  \n",
       "3          Tails       Tails           6  \n",
       "5          heads       Tails           5  \n",
       "6          Tails       Tails           4  \n",
       "..           ...         ...         ...  \n",
       "991        heads       heads           4  \n",
       "993        heads       Tails           4  \n",
       "995        heads       heads           5  \n",
       "997        heads       heads           4  \n",
       "999        heads       Tails           6  \n",
       "\n",
       "[614 rows x 9 columns]"
      ]
     },
     "execution_count": 31,
     "metadata": {},
     "output_type": "execute_result"
    }
   ],
   "source": [
    "flips[(flips.head_count > 3)]"
   ]
  },
  {
   "cell_type": "code",
   "execution_count": 32,
   "id": "06a6fa0c",
   "metadata": {},
   "outputs": [
    {
     "data": {
      "text/plain": [
       "0.614"
      ]
     },
     "execution_count": 32,
     "metadata": {},
     "output_type": "execute_result"
    }
   ],
   "source": [
    "(flips.head_count > 3).mean()"
   ]
  },
  {
   "cell_type": "markdown",
   "id": "3154d9d3",
   "metadata": {},
   "source": [
    "# 3. There are approximitely 3 web development cohorts for every 1 data science cohort at Codeup. Assuming that Codeup randomly selects an alumni to put on a billboard, what are the odds that the two billboards I drive past both have data science students on them?\n"
   ]
  },
  {
   "cell_type": "code",
   "execution_count": 94,
   "id": "c69ee3a8",
   "metadata": {},
   "outputs": [
    {
     "data": {
      "text/plain": [
       "array([['data', 'data'],\n",
       "       ['web', 'data'],\n",
       "       ['web', 'web'],\n",
       "       ...,\n",
       "       ['web', 'web'],\n",
       "       ['web', 'web'],\n",
       "       ['data', 'web']], dtype='<U4')"
      ]
     },
     "execution_count": 94,
     "metadata": {},
     "output_type": "execute_result"
    }
   ],
   "source": [
    "trails= 1000\n",
    "cohort= 2 \n",
    "bill_board =np.random.choice([\"web\", \"web\", \"web\", \"data\"], size =(trails, cohort))\n",
    "bill_board"
   ]
  },
  {
   "cell_type": "code",
   "execution_count": 96,
   "id": "4bf44ea7",
   "metadata": {},
   "outputs": [
    {
     "data": {
      "text/html": [
       "<div>\n",
       "<style scoped>\n",
       "    .dataframe tbody tr th:only-of-type {\n",
       "        vertical-align: middle;\n",
       "    }\n",
       "\n",
       "    .dataframe tbody tr th {\n",
       "        vertical-align: top;\n",
       "    }\n",
       "\n",
       "    .dataframe thead th {\n",
       "        text-align: right;\n",
       "    }\n",
       "</style>\n",
       "<table border=\"1\" class=\"dataframe\">\n",
       "  <thead>\n",
       "    <tr style=\"text-align: right;\">\n",
       "      <th></th>\n",
       "      <th>A</th>\n",
       "      <th>B</th>\n",
       "    </tr>\n",
       "  </thead>\n",
       "  <tbody>\n",
       "    <tr>\n",
       "      <th>0</th>\n",
       "      <td>data</td>\n",
       "      <td>data</td>\n",
       "    </tr>\n",
       "    <tr>\n",
       "      <th>1</th>\n",
       "      <td>web</td>\n",
       "      <td>data</td>\n",
       "    </tr>\n",
       "    <tr>\n",
       "      <th>2</th>\n",
       "      <td>web</td>\n",
       "      <td>web</td>\n",
       "    </tr>\n",
       "    <tr>\n",
       "      <th>3</th>\n",
       "      <td>web</td>\n",
       "      <td>data</td>\n",
       "    </tr>\n",
       "    <tr>\n",
       "      <th>4</th>\n",
       "      <td>data</td>\n",
       "      <td>data</td>\n",
       "    </tr>\n",
       "    <tr>\n",
       "      <th>5</th>\n",
       "      <td>web</td>\n",
       "      <td>web</td>\n",
       "    </tr>\n",
       "    <tr>\n",
       "      <th>6</th>\n",
       "      <td>web</td>\n",
       "      <td>web</td>\n",
       "    </tr>\n",
       "    <tr>\n",
       "      <th>7</th>\n",
       "      <td>web</td>\n",
       "      <td>data</td>\n",
       "    </tr>\n",
       "    <tr>\n",
       "      <th>8</th>\n",
       "      <td>web</td>\n",
       "      <td>data</td>\n",
       "    </tr>\n",
       "    <tr>\n",
       "      <th>9</th>\n",
       "      <td>web</td>\n",
       "      <td>web</td>\n",
       "    </tr>\n",
       "  </tbody>\n",
       "</table>\n",
       "</div>"
      ],
      "text/plain": [
       "      A     B\n",
       "0  data  data\n",
       "1   web  data\n",
       "2   web   web\n",
       "3   web  data\n",
       "4  data  data\n",
       "5   web   web\n",
       "6   web   web\n",
       "7   web  data\n",
       "8   web  data\n",
       "9   web   web"
      ]
     },
     "execution_count": 96,
     "metadata": {},
     "output_type": "execute_result"
    }
   ],
   "source": [
    "bill_board= pd.DataFrame(bill_board, columns= [\"A\", \"B\"])\n",
    "bill_board.head(10)"
   ]
  },
  {
   "cell_type": "code",
   "execution_count": 97,
   "id": "75e733e5",
   "metadata": {},
   "outputs": [
    {
     "data": {
      "text/html": [
       "<div>\n",
       "<style scoped>\n",
       "    .dataframe tbody tr th:only-of-type {\n",
       "        vertical-align: middle;\n",
       "    }\n",
       "\n",
       "    .dataframe tbody tr th {\n",
       "        vertical-align: top;\n",
       "    }\n",
       "\n",
       "    .dataframe thead th {\n",
       "        text-align: right;\n",
       "    }\n",
       "</style>\n",
       "<table border=\"1\" class=\"dataframe\">\n",
       "  <thead>\n",
       "    <tr style=\"text-align: right;\">\n",
       "      <th></th>\n",
       "      <th>A</th>\n",
       "      <th>B</th>\n",
       "    </tr>\n",
       "  </thead>\n",
       "  <tbody>\n",
       "    <tr>\n",
       "      <th>0</th>\n",
       "      <td>data</td>\n",
       "      <td>data</td>\n",
       "    </tr>\n",
       "    <tr>\n",
       "      <th>1</th>\n",
       "      <td>web</td>\n",
       "      <td>data</td>\n",
       "    </tr>\n",
       "    <tr>\n",
       "      <th>2</th>\n",
       "      <td>web</td>\n",
       "      <td>web</td>\n",
       "    </tr>\n",
       "    <tr>\n",
       "      <th>3</th>\n",
       "      <td>web</td>\n",
       "      <td>data</td>\n",
       "    </tr>\n",
       "    <tr>\n",
       "      <th>4</th>\n",
       "      <td>data</td>\n",
       "      <td>data</td>\n",
       "    </tr>\n",
       "    <tr>\n",
       "      <th>5</th>\n",
       "      <td>web</td>\n",
       "      <td>web</td>\n",
       "    </tr>\n",
       "    <tr>\n",
       "      <th>6</th>\n",
       "      <td>web</td>\n",
       "      <td>web</td>\n",
       "    </tr>\n",
       "    <tr>\n",
       "      <th>7</th>\n",
       "      <td>web</td>\n",
       "      <td>data</td>\n",
       "    </tr>\n",
       "    <tr>\n",
       "      <th>8</th>\n",
       "      <td>web</td>\n",
       "      <td>data</td>\n",
       "    </tr>\n",
       "    <tr>\n",
       "      <th>9</th>\n",
       "      <td>web</td>\n",
       "      <td>web</td>\n",
       "    </tr>\n",
       "    <tr>\n",
       "      <th>10</th>\n",
       "      <td>web</td>\n",
       "      <td>data</td>\n",
       "    </tr>\n",
       "    <tr>\n",
       "      <th>11</th>\n",
       "      <td>web</td>\n",
       "      <td>web</td>\n",
       "    </tr>\n",
       "    <tr>\n",
       "      <th>12</th>\n",
       "      <td>web</td>\n",
       "      <td>data</td>\n",
       "    </tr>\n",
       "    <tr>\n",
       "      <th>13</th>\n",
       "      <td>web</td>\n",
       "      <td>web</td>\n",
       "    </tr>\n",
       "    <tr>\n",
       "      <th>14</th>\n",
       "      <td>web</td>\n",
       "      <td>web</td>\n",
       "    </tr>\n",
       "    <tr>\n",
       "      <th>15</th>\n",
       "      <td>data</td>\n",
       "      <td>data</td>\n",
       "    </tr>\n",
       "    <tr>\n",
       "      <th>16</th>\n",
       "      <td>data</td>\n",
       "      <td>web</td>\n",
       "    </tr>\n",
       "    <tr>\n",
       "      <th>17</th>\n",
       "      <td>web</td>\n",
       "      <td>data</td>\n",
       "    </tr>\n",
       "    <tr>\n",
       "      <th>18</th>\n",
       "      <td>web</td>\n",
       "      <td>web</td>\n",
       "    </tr>\n",
       "    <tr>\n",
       "      <th>19</th>\n",
       "      <td>data</td>\n",
       "      <td>web</td>\n",
       "    </tr>\n",
       "  </tbody>\n",
       "</table>\n",
       "</div>"
      ],
      "text/plain": [
       "       A     B\n",
       "0   data  data\n",
       "1    web  data\n",
       "2    web   web\n",
       "3    web  data\n",
       "4   data  data\n",
       "5    web   web\n",
       "6    web   web\n",
       "7    web  data\n",
       "8    web  data\n",
       "9    web   web\n",
       "10   web  data\n",
       "11   web   web\n",
       "12   web  data\n",
       "13   web   web\n",
       "14   web   web\n",
       "15  data  data\n",
       "16  data   web\n",
       "17   web  data\n",
       "18   web   web\n",
       "19  data   web"
      ]
     },
     "execution_count": 97,
     "metadata": {},
     "output_type": "execute_result"
    }
   ],
   "source": [
    "bill_board = pd.DataFrame(bill_board, columns=[\"A\", \"B\"])\n",
    "bill_board.head(20)"
   ]
  },
  {
   "cell_type": "code",
   "execution_count": 98,
   "id": "891c7854",
   "metadata": {},
   "outputs": [],
   "source": [
    "def count_data(row):\n",
    "  return row.A.count(\"data\") + row.B.count(\"data\")"
   ]
  },
  {
   "cell_type": "code",
   "execution_count": 99,
   "id": "938bdae3",
   "metadata": {},
   "outputs": [
    {
     "data": {
      "text/html": [
       "<div>\n",
       "<style scoped>\n",
       "    .dataframe tbody tr th:only-of-type {\n",
       "        vertical-align: middle;\n",
       "    }\n",
       "\n",
       "    .dataframe tbody tr th {\n",
       "        vertical-align: top;\n",
       "    }\n",
       "\n",
       "    .dataframe thead th {\n",
       "        text-align: right;\n",
       "    }\n",
       "</style>\n",
       "<table border=\"1\" class=\"dataframe\">\n",
       "  <thead>\n",
       "    <tr style=\"text-align: right;\">\n",
       "      <th></th>\n",
       "      <th>A</th>\n",
       "      <th>B</th>\n",
       "      <th>count_data</th>\n",
       "    </tr>\n",
       "  </thead>\n",
       "  <tbody>\n",
       "    <tr>\n",
       "      <th>0</th>\n",
       "      <td>data</td>\n",
       "      <td>data</td>\n",
       "      <td>2</td>\n",
       "    </tr>\n",
       "    <tr>\n",
       "      <th>1</th>\n",
       "      <td>web</td>\n",
       "      <td>data</td>\n",
       "      <td>1</td>\n",
       "    </tr>\n",
       "    <tr>\n",
       "      <th>2</th>\n",
       "      <td>web</td>\n",
       "      <td>web</td>\n",
       "      <td>0</td>\n",
       "    </tr>\n",
       "    <tr>\n",
       "      <th>3</th>\n",
       "      <td>web</td>\n",
       "      <td>data</td>\n",
       "      <td>1</td>\n",
       "    </tr>\n",
       "    <tr>\n",
       "      <th>4</th>\n",
       "      <td>data</td>\n",
       "      <td>data</td>\n",
       "      <td>2</td>\n",
       "    </tr>\n",
       "    <tr>\n",
       "      <th>...</th>\n",
       "      <td>...</td>\n",
       "      <td>...</td>\n",
       "      <td>...</td>\n",
       "    </tr>\n",
       "    <tr>\n",
       "      <th>995</th>\n",
       "      <td>web</td>\n",
       "      <td>web</td>\n",
       "      <td>0</td>\n",
       "    </tr>\n",
       "    <tr>\n",
       "      <th>996</th>\n",
       "      <td>web</td>\n",
       "      <td>web</td>\n",
       "      <td>0</td>\n",
       "    </tr>\n",
       "    <tr>\n",
       "      <th>997</th>\n",
       "      <td>web</td>\n",
       "      <td>web</td>\n",
       "      <td>0</td>\n",
       "    </tr>\n",
       "    <tr>\n",
       "      <th>998</th>\n",
       "      <td>web</td>\n",
       "      <td>web</td>\n",
       "      <td>0</td>\n",
       "    </tr>\n",
       "    <tr>\n",
       "      <th>999</th>\n",
       "      <td>data</td>\n",
       "      <td>web</td>\n",
       "      <td>1</td>\n",
       "    </tr>\n",
       "  </tbody>\n",
       "</table>\n",
       "<p>1000 rows × 3 columns</p>\n",
       "</div>"
      ],
      "text/plain": [
       "        A     B  count_data\n",
       "0    data  data           2\n",
       "1     web  data           1\n",
       "2     web   web           0\n",
       "3     web  data           1\n",
       "4    data  data           2\n",
       "..    ...   ...         ...\n",
       "995   web   web           0\n",
       "996   web   web           0\n",
       "997   web   web           0\n",
       "998   web   web           0\n",
       "999  data   web           1\n",
       "\n",
       "[1000 rows x 3 columns]"
      ]
     },
     "execution_count": 99,
     "metadata": {},
     "output_type": "execute_result"
    }
   ],
   "source": [
    "# Let's setup a 3rd column to count the number of data scientists  \n",
    "bill_board[\"count_data\"] = bill_board.apply(count_data, axis=1)\n",
    "bill_board"
   ]
  },
  {
   "cell_type": "code",
   "execution_count": 101,
   "id": "f32572b6",
   "metadata": {},
   "outputs": [
    {
     "data": {
      "text/html": [
       "<div>\n",
       "<style scoped>\n",
       "    .dataframe tbody tr th:only-of-type {\n",
       "        vertical-align: middle;\n",
       "    }\n",
       "\n",
       "    .dataframe tbody tr th {\n",
       "        vertical-align: top;\n",
       "    }\n",
       "\n",
       "    .dataframe thead th {\n",
       "        text-align: right;\n",
       "    }\n",
       "</style>\n",
       "<table border=\"1\" class=\"dataframe\">\n",
       "  <thead>\n",
       "    <tr style=\"text-align: right;\">\n",
       "      <th></th>\n",
       "      <th>A</th>\n",
       "      <th>B</th>\n",
       "      <th>count_data</th>\n",
       "    </tr>\n",
       "  </thead>\n",
       "  <tbody>\n",
       "    <tr>\n",
       "      <th>0</th>\n",
       "      <td>data</td>\n",
       "      <td>data</td>\n",
       "      <td>2</td>\n",
       "    </tr>\n",
       "    <tr>\n",
       "      <th>4</th>\n",
       "      <td>data</td>\n",
       "      <td>data</td>\n",
       "      <td>2</td>\n",
       "    </tr>\n",
       "    <tr>\n",
       "      <th>15</th>\n",
       "      <td>data</td>\n",
       "      <td>data</td>\n",
       "      <td>2</td>\n",
       "    </tr>\n",
       "    <tr>\n",
       "      <th>24</th>\n",
       "      <td>data</td>\n",
       "      <td>data</td>\n",
       "      <td>2</td>\n",
       "    </tr>\n",
       "    <tr>\n",
       "      <th>44</th>\n",
       "      <td>data</td>\n",
       "      <td>data</td>\n",
       "      <td>2</td>\n",
       "    </tr>\n",
       "    <tr>\n",
       "      <th>...</th>\n",
       "      <td>...</td>\n",
       "      <td>...</td>\n",
       "      <td>...</td>\n",
       "    </tr>\n",
       "    <tr>\n",
       "      <th>860</th>\n",
       "      <td>data</td>\n",
       "      <td>data</td>\n",
       "      <td>2</td>\n",
       "    </tr>\n",
       "    <tr>\n",
       "      <th>930</th>\n",
       "      <td>data</td>\n",
       "      <td>data</td>\n",
       "      <td>2</td>\n",
       "    </tr>\n",
       "    <tr>\n",
       "      <th>947</th>\n",
       "      <td>data</td>\n",
       "      <td>data</td>\n",
       "      <td>2</td>\n",
       "    </tr>\n",
       "    <tr>\n",
       "      <th>959</th>\n",
       "      <td>data</td>\n",
       "      <td>data</td>\n",
       "      <td>2</td>\n",
       "    </tr>\n",
       "    <tr>\n",
       "      <th>965</th>\n",
       "      <td>data</td>\n",
       "      <td>data</td>\n",
       "      <td>2</td>\n",
       "    </tr>\n",
       "  </tbody>\n",
       "</table>\n",
       "<p>72 rows × 3 columns</p>\n",
       "</div>"
      ],
      "text/plain": [
       "        A     B  count_data\n",
       "0    data  data           2\n",
       "4    data  data           2\n",
       "15   data  data           2\n",
       "24   data  data           2\n",
       "44   data  data           2\n",
       "..    ...   ...         ...\n",
       "860  data  data           2\n",
       "930  data  data           2\n",
       "947  data  data           2\n",
       "959  data  data           2\n",
       "965  data  data           2\n",
       "\n",
       "[72 rows x 3 columns]"
      ]
     },
     "execution_count": 101,
     "metadata": {},
     "output_type": "execute_result"
    }
   ],
   "source": [
    "#odds having 2 data scientists \n",
    "bill_board[(bill_board.count_data == 2)]"
   ]
  },
  {
   "cell_type": "code",
   "execution_count": 103,
   "id": "d0fe9aec",
   "metadata": {},
   "outputs": [
    {
     "data": {
      "text/plain": [
       "0.072"
      ]
     },
     "execution_count": 103,
     "metadata": {},
     "output_type": "execute_result"
    }
   ],
   "source": [
    "(bill_board.count_data == 2).mean()"
   ]
  },
  {
   "cell_type": "markdown",
   "id": "8ec2a7b6",
   "metadata": {},
   "source": [
    "# Next Method"
   ]
  },
  {
   "cell_type": "code",
   "execution_count": 30,
   "id": "6187486b",
   "metadata": {},
   "outputs": [
    {
     "data": {
      "text/plain": [
       "0.56339"
      ]
     },
     "execution_count": 30,
     "metadata": {},
     "output_type": "execute_result"
    }
   ],
   "source": [
    "nrows = 100_000\n",
    "ncols = 2\n",
    "np.random.choice(['data', 'data', 'data', 'web'], nrows * ncols)\n",
    "rolls = np.random.choice(['data', 'data', 'data', 'web'], nrows * ncols).reshape(nrows, ncols)\n",
    "rolls\n",
    "df = pd.DataFrame(rolls)\n",
    "df.head()\n",
    "both_df = df.apply(lambda row: (row.values[0] == \"data\") and (row.values[1] == \"data\"), axis=1).mean()\n",
    "both_df"
   ]
  },
  {
   "cell_type": "markdown",
   "id": "ac94b0ca",
   "metadata": {},
   "source": [
    "# 4. Codeup students buy, on average, 3 poptart packages with a standard deviation of 1.5 a day from the snack vending machine. If on monday the machine is restocked with 17 poptart packages, how likely is it that I will be able to buy some poptarts on Friday afternoon? (Remember, if you have mean and standard deviation, use the np.random.normal)\n"
   ]
  },
  {
   "cell_type": "code",
   "execution_count": 105,
   "id": "4d7da66f",
   "metadata": {},
   "outputs": [
    {
     "data": {
      "text/plain": [
       "array([[ 3.23570969,  2.98332103,  1.82489968,  0.25897515,  2.94039462],\n",
       "       [ 3.33713169,  4.60182305,  3.20395972,  0.85320577,  2.85662151],\n",
       "       [-0.71508479,  3.14031238,  1.84603806,  2.77095528,  0.32618449],\n",
       "       ...,\n",
       "       [ 1.99655361,  2.42692756,  1.74172922,  3.86615849,  0.82222605],\n",
       "       [ 3.21570305,  2.57121954,  0.7776136 ,  1.88394721,  1.36712788],\n",
       "       [ 3.25360284,  2.71352096,  1.9855653 ,  1.9340058 ,  1.36873593]])"
      ]
     },
     "execution_count": 105,
     "metadata": {},
     "output_type": "execute_result"
    }
   ],
   "source": [
    "poptarts = np.random.normal(3, 1.5, size=(100000,5))\n",
    "poptarts"
   ]
  },
  {
   "cell_type": "code",
   "execution_count": 106,
   "id": "e993bfef",
   "metadata": {},
   "outputs": [
    {
     "data": {
      "text/plain": [
       "array([4., 1., 3., 2., 4.])"
      ]
     },
     "execution_count": 106,
     "metadata": {},
     "output_type": "execute_result"
    }
   ],
   "source": [
    "poptarts = np.round(np.random.normal(3, 1.5, size=(100000,5)))\n",
    "poptarts[0]"
   ]
  },
  {
   "cell_type": "code",
   "execution_count": 107,
   "id": "0aa9f0ca",
   "metadata": {},
   "outputs": [],
   "source": [
    "weekly_demand = poptarts.sum(axis=1)"
   ]
  },
  {
   "cell_type": "code",
   "execution_count": 109,
   "id": "7385e5f2",
   "metadata": {},
   "outputs": [
    {
     "data": {
      "text/plain": [
       "array([ True, False,  True, ...,  True,  True, False])"
      ]
     },
     "execution_count": 109,
     "metadata": {},
     "output_type": "execute_result"
    }
   ],
   "source": [
    "weekly_demand <17"
   ]
  },
  {
   "cell_type": "code",
   "execution_count": 110,
   "id": "3841ec95",
   "metadata": {},
   "outputs": [
    {
     "data": {
      "text/plain": [
       "0.66951"
      ]
     },
     "execution_count": 110,
     "metadata": {},
     "output_type": "execute_result"
    }
   ],
   "source": [
    "(weekly_demand <17).mean()"
   ]
  },
  {
   "cell_type": "markdown",
   "id": "48775117",
   "metadata": {},
   "source": [
    "# Next Method"
   ]
  },
  {
   "cell_type": "code",
   "execution_count": 33,
   "id": "10c6b23a",
   "metadata": {},
   "outputs": [
    {
     "data": {
      "text/html": [
       "<div>\n",
       "<style scoped>\n",
       "    .dataframe tbody tr th:only-of-type {\n",
       "        vertical-align: middle;\n",
       "    }\n",
       "\n",
       "    .dataframe tbody tr th {\n",
       "        vertical-align: top;\n",
       "    }\n",
       "\n",
       "    .dataframe thead th {\n",
       "        text-align: right;\n",
       "    }\n",
       "</style>\n",
       "<table border=\"1\" class=\"dataframe\">\n",
       "  <thead>\n",
       "    <tr style=\"text-align: right;\">\n",
       "      <th></th>\n",
       "      <th>0</th>\n",
       "      <th>1</th>\n",
       "      <th>2</th>\n",
       "      <th>3</th>\n",
       "      <th>4</th>\n",
       "    </tr>\n",
       "  </thead>\n",
       "  <tbody>\n",
       "    <tr>\n",
       "      <th>0</th>\n",
       "      <td>2</td>\n",
       "      <td>5</td>\n",
       "      <td>1</td>\n",
       "      <td>2</td>\n",
       "      <td>0</td>\n",
       "    </tr>\n",
       "    <tr>\n",
       "      <th>1</th>\n",
       "      <td>1</td>\n",
       "      <td>4</td>\n",
       "      <td>0</td>\n",
       "      <td>2</td>\n",
       "      <td>0</td>\n",
       "    </tr>\n",
       "    <tr>\n",
       "      <th>2</th>\n",
       "      <td>2</td>\n",
       "      <td>1</td>\n",
       "      <td>3</td>\n",
       "      <td>2</td>\n",
       "      <td>3</td>\n",
       "    </tr>\n",
       "    <tr>\n",
       "      <th>3</th>\n",
       "      <td>0</td>\n",
       "      <td>3</td>\n",
       "      <td>4</td>\n",
       "      <td>2</td>\n",
       "      <td>0</td>\n",
       "    </tr>\n",
       "    <tr>\n",
       "      <th>4</th>\n",
       "      <td>4</td>\n",
       "      <td>2</td>\n",
       "      <td>1</td>\n",
       "      <td>1</td>\n",
       "      <td>2</td>\n",
       "    </tr>\n",
       "  </tbody>\n",
       "</table>\n",
       "</div>"
      ],
      "text/plain": [
       "   0  1  2  3  4\n",
       "0  2  5  1  2  0\n",
       "1  1  4  0  2  0\n",
       "2  2  1  3  2  3\n",
       "3  0  3  4  2  0\n",
       "4  4  2  1  1  2"
      ]
     },
     "execution_count": 33,
     "metadata": {},
     "output_type": "execute_result"
    }
   ],
   "source": [
    "nrows = 100_000 # set rows to number of simulations\n",
    "ncols = 5       # set columns to number of days in each simulation\n",
    "\n",
    "# create an array of values using random.normal to repesent the number of PopTarts bought in a day\n",
    "# reshabe that array into trial groups of 5 to represent five days or PopTart buying\n",
    "rolls = np.random.normal(3, 1.5, nrows * ncols).astype(int).reshape(nrows, ncols)\n",
    "\n",
    "# convert to data frame\n",
    "df = pd.DataFrame(rolls)\n",
    "df.head()"
   ]
  },
  {
   "cell_type": "code",
   "execution_count": 35,
   "id": "04e43982",
   "metadata": {},
   "outputs": [
    {
     "data": {
      "text/plain": [
       "0.87934"
      ]
     },
     "execution_count": 35,
     "metadata": {},
     "output_type": "execute_result"
    }
   ],
   "source": [
    "# count the number of bought PopTarts in each row and create a boolean array showing weather the total number of bought PopTarts equals or exceeds 17\n",
    "# take the mean of the array to get the probability of having poptarts available to by on friday afternoon\n",
    "odds_of_tarts = df.apply(lambda row: row.values.sum() < 17, axis=1).mean()\n",
    "\n",
    "odds_of_tarts\n"
   ]
  },
  {
   "cell_type": "markdown",
   "id": "2dc41e02",
   "metadata": {},
   "source": [
    "# 5. Compare Heights\n",
    "\n",
    "- Men have an average height of 178 cm and standard deviation of 8cm.\n",
    "- Women have a mean of 170, sd = 6cm.\n",
    "- Since you have means and standard deviations, you can use np.random.normal to generate observations.\n",
    "- If a man and woman are chosen at random, P(woman taller than man)?"
   ]
  },
  {
   "cell_type": "code",
   "execution_count": 111,
   "id": "9cdad57a",
   "metadata": {},
   "outputs": [
    {
     "data": {
      "text/plain": [
       "0.21252"
      ]
     },
     "execution_count": 111,
     "metadata": {},
     "output_type": "execute_result"
    }
   ],
   "source": [
    "np.random.seed(29)\n",
    "p_m = np.random.normal(178,8,100_000)\n",
    "p_w = np.random.normal(170,6,100_000)\n",
    "p_w\n",
    "p_m\n",
    "\n",
    "(p_w > p_m).mean()"
   ]
  },
  {
   "cell_type": "markdown",
   "id": "8231123a",
   "metadata": {},
   "source": [
    "# Next Method"
   ]
  },
  {
   "cell_type": "code",
   "execution_count": 36,
   "id": "90c64239",
   "metadata": {},
   "outputs": [
    {
     "data": {
      "text/html": [
       "<div>\n",
       "<style scoped>\n",
       "    .dataframe tbody tr th:only-of-type {\n",
       "        vertical-align: middle;\n",
       "    }\n",
       "\n",
       "    .dataframe tbody tr th {\n",
       "        vertical-align: top;\n",
       "    }\n",
       "\n",
       "    .dataframe thead th {\n",
       "        text-align: right;\n",
       "    }\n",
       "</style>\n",
       "<table border=\"1\" class=\"dataframe\">\n",
       "  <thead>\n",
       "    <tr style=\"text-align: right;\">\n",
       "      <th></th>\n",
       "      <th>male_hights</th>\n",
       "      <th>female_hights</th>\n",
       "      <th>female_is_taller</th>\n",
       "    </tr>\n",
       "  </thead>\n",
       "  <tbody>\n",
       "    <tr>\n",
       "      <th>0</th>\n",
       "      <td>174.903222</td>\n",
       "      <td>170.495748</td>\n",
       "      <td>False</td>\n",
       "    </tr>\n",
       "    <tr>\n",
       "      <th>1</th>\n",
       "      <td>177.285285</td>\n",
       "      <td>168.120946</td>\n",
       "      <td>False</td>\n",
       "    </tr>\n",
       "    <tr>\n",
       "      <th>2</th>\n",
       "      <td>183.010967</td>\n",
       "      <td>168.843249</td>\n",
       "      <td>False</td>\n",
       "    </tr>\n",
       "    <tr>\n",
       "      <th>3</th>\n",
       "      <td>191.867843</td>\n",
       "      <td>170.627692</td>\n",
       "      <td>False</td>\n",
       "    </tr>\n",
       "    <tr>\n",
       "      <th>4</th>\n",
       "      <td>181.973178</td>\n",
       "      <td>167.359275</td>\n",
       "      <td>False</td>\n",
       "    </tr>\n",
       "    <tr>\n",
       "      <th>...</th>\n",
       "      <td>...</td>\n",
       "      <td>...</td>\n",
       "      <td>...</td>\n",
       "    </tr>\n",
       "    <tr>\n",
       "      <th>99995</th>\n",
       "      <td>168.410358</td>\n",
       "      <td>168.801606</td>\n",
       "      <td>True</td>\n",
       "    </tr>\n",
       "    <tr>\n",
       "      <th>99996</th>\n",
       "      <td>191.882067</td>\n",
       "      <td>170.759778</td>\n",
       "      <td>False</td>\n",
       "    </tr>\n",
       "    <tr>\n",
       "      <th>99997</th>\n",
       "      <td>169.398737</td>\n",
       "      <td>164.963748</td>\n",
       "      <td>False</td>\n",
       "    </tr>\n",
       "    <tr>\n",
       "      <th>99998</th>\n",
       "      <td>183.103165</td>\n",
       "      <td>170.804485</td>\n",
       "      <td>False</td>\n",
       "    </tr>\n",
       "    <tr>\n",
       "      <th>99999</th>\n",
       "      <td>168.773391</td>\n",
       "      <td>169.175091</td>\n",
       "      <td>True</td>\n",
       "    </tr>\n",
       "  </tbody>\n",
       "</table>\n",
       "<p>100000 rows × 3 columns</p>\n",
       "</div>"
      ],
      "text/plain": [
       "       male_hights  female_hights  female_is_taller\n",
       "0       174.903222     170.495748             False\n",
       "1       177.285285     168.120946             False\n",
       "2       183.010967     168.843249             False\n",
       "3       191.867843     170.627692             False\n",
       "4       181.973178     167.359275             False\n",
       "...            ...            ...               ...\n",
       "99995   168.410358     168.801606              True\n",
       "99996   191.882067     170.759778             False\n",
       "99997   169.398737     164.963748             False\n",
       "99998   183.103165     170.804485             False\n",
       "99999   168.773391     169.175091              True\n",
       "\n",
       "[100000 rows x 3 columns]"
      ]
     },
     "execution_count": 36,
     "metadata": {},
     "output_type": "execute_result"
    }
   ],
   "source": [
    "# use random.normal to create arrays representing male and female hights chosen at random\n",
    "male_hights = np.random.normal(178, 8, 100_000)\n",
    "female_hights = np.random.normal(170, 6, 100_000)\n",
    "\n",
    "# convert the arrays to a to single dataframe where each row reprsents a female and male hight chosen at random\n",
    "df = pd.DataFrame({\"male_hights\" : male_hights,\n",
    "                   \"female_hights\" : female_hights})\n",
    "\n",
    "# add boolean column showing true if the female hight is greater in each row (trial)\n",
    "df['female_is_taller'] = df.female_hights > df.male_hights\n",
    "df"
   ]
  },
  {
   "cell_type": "code",
   "execution_count": 37,
   "id": "45104985",
   "metadata": {},
   "outputs": [
    {
     "data": {
      "text/plain": [
       "0.21283"
      ]
     },
     "execution_count": 37,
     "metadata": {},
     "output_type": "execute_result"
    }
   ],
   "source": [
    "# get mean of that column\n",
    "taller_female = df['female_is_taller'].mean()\n",
    "taller_female"
   ]
  },
  {
   "cell_type": "markdown",
   "id": "a4ffcbf0",
   "metadata": {},
   "source": [
    "# 6. When installing anaconda on a student's computer, there's a 1 in 250 chance that the download is corrupted and the installation fails. What are the odds that after having 50 students download anaconda, no one has an installation issue? 100 students?\n",
    "\n",
    "# What is the probability that we observe an installation issue within the first 150 students that download anaconda?\n",
    "\n",
    "# How likely is it that 450 students all download anaconda without an issue?\n",
    "\n"
   ]
  },
  {
   "cell_type": "code",
   "execution_count": 116,
   "id": "bc23a4f8",
   "metadata": {},
   "outputs": [],
   "source": [
    "fails = np.random.choice(['fails', 'success'], size = (100_000, 50), p = (1/250, 249/250))"
   ]
  },
  {
   "cell_type": "code",
   "execution_count": 113,
   "id": "d40779ec",
   "metadata": {},
   "outputs": [
    {
     "data": {
      "text/plain": [
       "0.81708"
      ]
     },
     "execution_count": 113,
     "metadata": {},
     "output_type": "execute_result"
    }
   ],
   "source": [
    "((fails == 'success').sum(axis=1) == 50).mean() # probability of 50 successes"
   ]
  },
  {
   "cell_type": "code",
   "execution_count": 118,
   "id": "7e432b66",
   "metadata": {},
   "outputs": [
    {
     "data": {
      "text/plain": [
       "0.66895"
      ]
     },
     "execution_count": 118,
     "metadata": {},
     "output_type": "execute_result"
    }
   ],
   "source": [
    "fails = np.random.choice(['fails', 'success'], size = (100_000, 100), p = (1/250, 249/250))\n",
    "((fails == 'success').sum(axis=1) == 100).mean() # probability of 100 successes"
   ]
  },
  {
   "cell_type": "code",
   "execution_count": 119,
   "id": "9a269f91",
   "metadata": {},
   "outputs": [
    {
     "data": {
      "text/plain": [
       "0.54671"
      ]
     },
     "execution_count": 119,
     "metadata": {},
     "output_type": "execute_result"
    }
   ],
   "source": [
    "fails = np.random.choice(['fails', 'success'], size = (100_000, 150), p = (1/250, 249/250))\n",
    "((fails == 'success').sum(axis=1) == 150).mean() # probability of 150 successes"
   ]
  },
  {
   "cell_type": "code",
   "execution_count": 120,
   "id": "b8296377",
   "metadata": {},
   "outputs": [
    {
     "data": {
      "text/plain": [
       "0.16459"
      ]
     },
     "execution_count": 120,
     "metadata": {},
     "output_type": "execute_result"
    }
   ],
   "source": [
    "fails = np.random.choice(['fails', 'success'], size = (100_000, 450), p = (1/250, 249/250))\n",
    "((fails == 'success').sum(axis=1) == 450).mean() # probability of 450 successes"
   ]
  },
  {
   "cell_type": "markdown",
   "id": "68fe772c",
   "metadata": {},
   "source": [
    "# Next Method"
   ]
  },
  {
   "cell_type": "code",
   "execution_count": 38,
   "id": "bbb9ff42",
   "metadata": {},
   "outputs": [],
   "source": [
    "def anaconda_problem(number_of_students):\n",
    "    \n",
    "    nrows = 100_000 # set rows to number of simulations\n",
    "    ncols = number_of_students # set columns to number of students in each simulation\n",
    "\n",
    "    # create list with 249 falses and one true\n",
    "    issue_range = [False for r in range(1,250)]\n",
    "    issue_range.append(True)\n",
    "\n",
    "    # use random.choice to create an arrepresenting whether there was an issue with a given student's Anaconda install\n",
    "    # reshape the dataframe into trial groups of the desiered number of students\n",
    "    installs = np.random.choice(issue_range, nrows * ncols).reshape(nrows, ncols)\n",
    "\n",
    "    # convert to data frame\n",
    "    df = pd.DataFrame(installs)\n",
    "\n",
    "    # Sum the number of True values in each row (trial) \n",
    "    # create a boolian array that shows true for each row (trial) that had no Trues\n",
    "    # Take the mean of that array to get the odds of not encountering any problems in the trial group\n",
    "    no_problems = df.apply(lambda row: row.values.sum() == 0, axis=1).mean()\n",
    "    \n",
    "    # Sum the number of True values in each row (trial) \n",
    "    # create a boolian array that shows true for each row (trial) that had no Trues\n",
    "    # Take the mean of that array to get the odds encountering any problems in the trial group\n",
    "    problems = df.apply(lambda row: row.values.sum() > 0, axis=1).mean()\n",
    "\n",
    "    print(f'The odds of {number_of_students} students downloading Anaconda without a problem are {round(no_problems*100)}%')\n",
    "    print(f'The odds of {number_of_students} students downloading Anaconda encountering at least one problem are {round(problems*100)}%')"
   ]
  },
  {
   "cell_type": "code",
   "execution_count": 39,
   "id": "726927ea",
   "metadata": {},
   "outputs": [
    {
     "name": "stdout",
     "output_type": "stream",
     "text": [
      "The odds of 50 students downloading Anaconda without a problem are 82%\n",
      "The odds of 50 students downloading Anaconda encountering at least one problem are 18%\n"
     ]
    }
   ],
   "source": [
    "anaconda_problem(50)"
   ]
  },
  {
   "cell_type": "code",
   "execution_count": 40,
   "id": "af3c8672",
   "metadata": {},
   "outputs": [
    {
     "name": "stdout",
     "output_type": "stream",
     "text": [
      "The odds of 100 students downloading Anaconda without a problem are 67%\n",
      "The odds of 100 students downloading Anaconda encountering at least one problem are 33%\n"
     ]
    }
   ],
   "source": [
    "anaconda_problem(100)"
   ]
  },
  {
   "cell_type": "code",
   "execution_count": 41,
   "id": "11375ac8",
   "metadata": {},
   "outputs": [
    {
     "name": "stdout",
     "output_type": "stream",
     "text": [
      "The odds of 150 students downloading Anaconda without a problem are 55%\n",
      "The odds of 150 students downloading Anaconda encountering at least one problem are 45%\n"
     ]
    }
   ],
   "source": [
    "anaconda_problem(150)"
   ]
  },
  {
   "cell_type": "code",
   "execution_count": 42,
   "id": "63765966",
   "metadata": {},
   "outputs": [
    {
     "name": "stdout",
     "output_type": "stream",
     "text": [
      "The odds of 450 students downloading Anaconda without a problem are 17%\n",
      "The odds of 450 students downloading Anaconda encountering at least one problem are 83%\n"
     ]
    }
   ],
   "source": [
    "anaconda_problem(450)"
   ]
  },
  {
   "cell_type": "markdown",
   "id": "cee2be18",
   "metadata": {},
   "source": [
    "# 7. There's a 70% chance on any given day that there will be at least one food truck at Travis Park. However, you haven't seen a food truck there in 3 days. How unlikely is this?\n",
    "\n",
    "# How likely is it that a food truck will show up sometime this week?"
   ]
  },
  {
   "cell_type": "code",
   "execution_count": 43,
   "id": "9bf0f0f1",
   "metadata": {},
   "outputs": [
    {
     "data": {
      "text/plain": [
       "0.02694"
      ]
     },
     "execution_count": 43,
     "metadata": {},
     "output_type": "execute_result"
    }
   ],
   "source": [
    "trucks= np.random.choice(['seen', 'no_seen'], size = (100_000,3), p = ([0.7, 0.3]))\n",
    "((trucks == 'no_seen').sum(axis = 1) == 3).mean()\n"
   ]
  },
  {
   "cell_type": "code",
   "execution_count": 45,
   "id": "644b6584",
   "metadata": {},
   "outputs": [
    {
     "data": {
      "text/plain": [
       "0.97401"
      ]
     },
     "execution_count": 45,
     "metadata": {},
     "output_type": "execute_result"
    }
   ],
   "source": [
    "trucks= np.random.choice(['seen', 'no_seen'], size = (100_000,3), p = ([0.7, 0.3]))\n",
    "((trucks == 'seen').sum(axis = 1) >= 1).mean()"
   ]
  },
  {
   "cell_type": "markdown",
   "id": "4c58ada7",
   "metadata": {},
   "source": [
    "# 8. If 23 people are in the same room, what are the odds that two of them share a birthday? What if it's 20 people? 40?"
   ]
  },
  {
   "cell_type": "code",
   "execution_count": 46,
   "id": "0c1970f0",
   "metadata": {},
   "outputs": [],
   "source": [
    "def shared_birthday(people):\n",
    "\n",
    "    nrows = 100_000 # set rows to number of simulations\n",
    "    ncols = people  # set columns to number of people in each simulation\n",
    "\n",
    "    # create array with each value representing the numbered day of the year that person was born on. (This ignores leap years)\n",
    "    # reshape the aray into trial groups\n",
    "    sightings = np.random.choice([r for r in range(366)], nrows * ncols).reshape(nrows, ncols)\n",
    "\n",
    "    # convert to data frame\n",
    "    df = pd.DataFrame(sightings)\n",
    "\n",
    "    # Add boolian column to df showing weather there are less unique numbers in each row (trial) than there are total columns\n",
    "    df['matching_birthdays'] = df.nunique(axis=1) < ncols\n",
    "\n",
    "    # get mean of calculation True/False columns\n",
    "    # format and print results\n",
    "    matching_birthdays = df['matching_birthdays'].mean()\n",
    "\n",
    "    # print result\n",
    "    print(f'The odds of a room of {ncols} people having at least two people that share a birthday are {round(matching_birthdays*100)}%')"
   ]
  },
  {
   "cell_type": "code",
   "execution_count": 47,
   "id": "865c2ce7",
   "metadata": {},
   "outputs": [
    {
     "name": "stdout",
     "output_type": "stream",
     "text": [
      "The odds of a room of 23 people having at least two people that share a birthday are 51%\n",
      "The odds of a room of 20 people having at least two people that share a birthday are 41%\n",
      "The odds of a room of 40 people having at least two people that share a birthday are 89%\n"
     ]
    }
   ],
   "source": [
    "num_list = [23, 20, 40]\n",
    "\n",
    "for num in num_list:\n",
    "    shared_birthday(num)"
   ]
  },
  {
   "cell_type": "code",
   "execution_count": null,
   "id": "ccf999bd",
   "metadata": {},
   "outputs": [],
   "source": []
  }
 ],
 "metadata": {
  "kernelspec": {
   "display_name": "Python 3 (ipykernel)",
   "language": "python",
   "name": "python3"
  },
  "language_info": {
   "codemirror_mode": {
    "name": "ipython",
    "version": 3
   },
   "file_extension": ".py",
   "mimetype": "text/x-python",
   "name": "python",
   "nbconvert_exporter": "python",
   "pygments_lexer": "ipython3",
   "version": "3.8.8"
  }
 },
 "nbformat": 4,
 "nbformat_minor": 5
}
