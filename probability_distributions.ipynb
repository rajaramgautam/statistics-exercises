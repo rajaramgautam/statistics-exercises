{
 "cells": [
  {
   "cell_type": "markdown",
   "id": "c9e4d93f",
   "metadata": {},
   "source": [
    "# Exercises\n",
    "\n",
    "# Do your work for this exercise in either a python script named probability_distributions.py or a jupyter notebook named probability_distributions.ipynb.\n",
    "\n",
    "# For the following problems, use python to simulate the problem and calculate an experimental probability, then compare that to the theoretical probability.\n",
    "\n",
    "\n",
    "\n",
    "\n",
    "\n",
    "\n",
    "\n",
    "\n"
   ]
  },
  {
   "cell_type": "markdown",
   "id": "83e1ca45",
   "metadata": {},
   "source": [
    "# 1. A bank found that the average number of cars waiting during the noon hour at a drive-up window follows a Poisson distribution with a mean of 2 cars. Make a chart of this distribution and answer these questions concerning the probability of cars waiting at the drive-up window.\n"
   ]
  },
  {
   "cell_type": "code",
   "execution_count": 3,
   "id": "1e9c0154",
   "metadata": {},
   "outputs": [],
   "source": [
    "import matplotlib.pyplot as plt\n",
    "import numpy as np\n",
    "import pandas as pd\n",
    "from scipy import stats"
   ]
  },
  {
   "cell_type": "markdown",
   "id": "3a33ce00",
   "metadata": {},
   "source": [
    "- What is the probability that no cars drive up in the noon hour?"
   ]
  },
  {
   "cell_type": "code",
   "execution_count": 18,
   "id": "bcf390d1",
   "metadata": {},
   "outputs": [
    {
     "data": {
      "text/plain": [
       "0.1353352832366127"
      ]
     },
     "execution_count": 18,
     "metadata": {},
     "output_type": "execute_result"
    }
   ],
   "source": [
    "λ = 2 # per hour\n",
    "\n",
    "p0 = stats.poisson(λ).pmf(0)\n",
    "p0"
   ]
  },
  {
   "cell_type": "markdown",
   "id": "e270a29c",
   "metadata": {},
   "source": [
    "- What is the probability that 3 or more cars come through the drive through?"
   ]
  },
  {
   "cell_type": "code",
   "execution_count": 19,
   "id": "2afb6dd0",
   "metadata": {},
   "outputs": [
    {
     "data": {
      "text/plain": [
       "0.2706705664732254"
      ]
     },
     "execution_count": 19,
     "metadata": {},
     "output_type": "execute_result"
    }
   ],
   "source": [
    "p1 = stats.poisson(λ).pmf(1)\n",
    "p1"
   ]
  },
  {
   "cell_type": "code",
   "execution_count": 20,
   "id": "5b923611",
   "metadata": {},
   "outputs": [
    {
     "data": {
      "text/plain": [
       "0.2706705664732254"
      ]
     },
     "execution_count": 20,
     "metadata": {},
     "output_type": "execute_result"
    }
   ],
   "source": [
    "p2 = stats.poisson(λ).pmf(2)\n",
    "p2"
   ]
  },
  {
   "cell_type": "code",
   "execution_count": 21,
   "id": "90e2118d",
   "metadata": {},
   "outputs": [
    {
     "data": {
      "text/plain": [
       "0.3233235838169365"
      ]
     },
     "execution_count": 21,
     "metadata": {},
     "output_type": "execute_result"
    }
   ],
   "source": [
    "prop_3_or_more = 1-p0 -p1 -p2\n",
    "prop_3_or_more"
   ]
  },
  {
   "cell_type": "markdown",
   "id": "8e090690",
   "metadata": {},
   "source": [
    "- How likely is it that the drive through gets at least 1 car?"
   ]
  },
  {
   "cell_type": "code",
   "execution_count": 22,
   "id": "b937775d",
   "metadata": {},
   "outputs": [
    {
     "data": {
      "text/plain": [
       "0.8646647167633873"
      ]
     },
     "execution_count": 22,
     "metadata": {},
     "output_type": "execute_result"
    }
   ],
   "source": [
    "prop_at_least_one = 1 -p0\n",
    "prop_at_least_one"
   ]
  },
  {
   "cell_type": "code",
   "execution_count": 23,
   "id": "e07f9888",
   "metadata": {},
   "outputs": [
    {
     "data": {
      "text/plain": [
       "<BarContainer object of 30 artists>"
      ]
     },
     "execution_count": 23,
     "metadata": {},
     "output_type": "execute_result"
    },
    {
     "data": {
      "image/png": "[encoded data removed]",
      "text/plain": [
       "<Figure size 432x288 with 1 Axes>"
      ]
     },
     "metadata": {
      "needs_background": "light"
     },
     "output_type": "display_data"
    }
   ],
   "source": [
    "x = np.arange(0,30)\n",
    "y = stats.poisson(λ).pmf(x)\n",
    "\n",
    "plt.bar(x,y)"
   ]
  },
  {
   "cell_type": "markdown",
   "id": "bb2ee59a",
   "metadata": {},
   "source": [
    "# 2. Grades of State University graduates are normally distributed with a mean of 3.0 and a standard deviation of .3. Calculate the following:\n",
    "\n",
    "\n"
   ]
  },
  {
   "cell_type": "markdown",
   "id": "39787ad9",
   "metadata": {},
   "source": [
    "- What grade point average is required to be in the top 5% of the graduating class?"
   ]
  },
  {
   "cell_type": "code",
   "execution_count": 69,
   "id": "d7cd5a01",
   "metadata": {},
   "outputs": [
    {
     "data": {
      "text/plain": [
       "3.4934560880854417"
      ]
     },
     "execution_count": 69,
     "metadata": {},
     "output_type": "execute_result"
    }
   ],
   "source": [
    "μ = 3.0\n",
    "σ = 0.3\n",
    "\n",
    "stats.norm(μ, σ).isf(0.05)"
   ]
  },
  {
   "cell_type": "markdown",
   "id": "22dab952",
   "metadata": {},
   "source": [
    "- What GPA constitutes the bottom 15% of the class?"
   ]
  },
  {
   "cell_type": "code",
   "execution_count": 8,
   "id": "bab4dfb2",
   "metadata": {},
   "outputs": [
    {
     "data": {
      "text/plain": [
       "2.689069983151863"
      ]
     },
     "execution_count": 8,
     "metadata": {},
     "output_type": "execute_result"
    }
   ],
   "source": [
    "stats.norm(μ, σ).ppf(0.15)"
   ]
  },
  {
   "cell_type": "markdown",
   "id": "a348f08b",
   "metadata": {},
   "source": [
    "- An eccentric alumnus left scholarship money for students in the third decile from the bottom of their class. Determine the range of the third decile. Would a student with a 2.8 grade point average qualify for this scholarship?"
   ]
  },
  {
   "cell_type": "code",
   "execution_count": 10,
   "id": "aef2d859",
   "metadata": {},
   "outputs": [
    {
     "data": {
      "text/plain": [
       "2.6155345303366198"
      ]
     },
     "execution_count": 10,
     "metadata": {},
     "output_type": "execute_result"
    }
   ],
   "source": [
    "d1= stats.norm(μ, σ).ppf(0.10)\n",
    "d1"
   ]
  },
  {
   "cell_type": "code",
   "execution_count": 11,
   "id": "18faa315",
   "metadata": {},
   "outputs": [
    {
     "data": {
      "text/plain": [
       "2.7475136299281258"
      ]
     },
     "execution_count": 11,
     "metadata": {},
     "output_type": "execute_result"
    }
   ],
   "source": [
    "d2 =stats.norm(μ, σ).ppf(0.20)\n",
    "d2"
   ]
  },
  {
   "cell_type": "code",
   "execution_count": 12,
   "id": "efeebcc3",
   "metadata": {},
   "outputs": [
    {
     "data": {
      "text/plain": [
       "2.842679846187588"
      ]
     },
     "execution_count": 12,
     "metadata": {},
     "output_type": "execute_result"
    }
   ],
   "source": [
    "d3 = stats.norm(μ, σ).ppf(0.30)\n",
    "d3"
   ]
  },
  {
   "cell_type": "markdown",
   "id": "433f151f",
   "metadata": {},
   "source": [
    "- If I have a GPA of 3.5, what percentile am I in?"
   ]
  },
  {
   "cell_type": "code",
   "execution_count": 70,
   "id": "16126e3d",
   "metadata": {},
   "outputs": [
    {
     "data": {
      "text/plain": [
       "0.9522096477271853"
      ]
     },
     "execution_count": 70,
     "metadata": {},
     "output_type": "execute_result"
    }
   ],
   "source": [
    "stats.norm(μ, σ).cdf(3.50)"
   ]
  },
  {
   "cell_type": "markdown",
   "id": "3ef871d4",
   "metadata": {},
   "source": [
    "# 3. A marketing website has an average click-through rate of 2%. One day they observe 4326 visitors and 97 click-throughs. How likely is it that this many people or more click through?\n"
   ]
  },
  {
   "cell_type": "code",
   "execution_count": 13,
   "id": "a1850fae",
   "metadata": {},
   "outputs": [
    {
     "data": {
      "text/plain": [
       "0.13975823631416445"
      ]
     },
     "execution_count": 13,
     "metadata": {},
     "output_type": "execute_result"
    }
   ],
   "source": [
    "p = 0.02\n",
    "n_trials = 4326\n",
    "stats.binom(n_trials, p).sf(96)"
   ]
  },
  {
   "cell_type": "code",
   "execution_count": 6,
   "id": "dbdfeec9",
   "metadata": {},
   "outputs": [
    {
     "data": {
      "text/plain": [
       "0.1510752871020976"
      ]
     },
     "execution_count": 6,
     "metadata": {},
     "output_type": "execute_result"
    }
   ],
   "source": [
    "p1 = 0.10\n",
    "n_trial = 618\n",
    "stats.binom(n_trial, p1).sf(69)"
   ]
  },
  {
   "cell_type": "code",
   "execution_count": null,
   "id": "30406bd3",
   "metadata": {},
   "outputs": [],
   "source": []
  },
  {
   "cell_type": "code",
   "execution_count": 26,
   "id": "5d4b7207",
   "metadata": {},
   "outputs": [
    {
     "data": {
      "text/plain": [
       "<BarContainer object of 30 artists>"
      ]
     },
     "execution_count": 26,
     "metadata": {},
     "output_type": "execute_result"
    },
    {
     "data": {
      "image/png": "[encoded data removed]",
      "text/plain": [
       "<Figure size 432x288 with 1 Axes>"
      ]
     },
     "metadata": {
      "needs_background": "light"
     },
     "output_type": "display_data"
    }
   ],
   "source": [
    "x = np.arange(0,30)\n",
    "y = stats.binom(n_trials, p).sf(x)\n",
    "\n",
    "plt.bar(x,y)"
   ]
  },
  {
   "cell_type": "markdown",
   "id": "69e47a25",
   "metadata": {},
   "source": [
    "# 4. You are working on some statistics homework consisting of 100 questions where all of the answers are a probability rounded to the hundreths place. Looking to save time, you put down random probabilities as the answer to each question.\n",
    "\n",
    "- What is the probability that at least one of your first 60 answers is correct?"
   ]
  },
  {
   "cell_type": "code",
   "execution_count": 14,
   "id": "7a18f2fe",
   "metadata": {},
   "outputs": [
    {
     "data": {
      "text/plain": [
       "0.45284335760923855"
      ]
     },
     "execution_count": 14,
     "metadata": {},
     "output_type": "execute_result"
    }
   ],
   "source": [
    "p = 0.01\n",
    "n_trials = 60\n",
    "stats.binom(n_trials, p).sf(0)"
   ]
  },
  {
   "cell_type": "code",
   "execution_count": null,
   "id": "d25a2dc0",
   "metadata": {},
   "outputs": [],
   "source": []
  },
  {
   "cell_type": "markdown",
   "id": "acbc5ead",
   "metadata": {},
   "source": [
    "# 5. The codeup staff tends to get upset when the student break area is not cleaned up. Suppose that there's a 3% chance that any one student cleans the break area when they visit it, and, on any given day, about 90% of the 3 active cohorts of 22 students visit the break area. How likely is it that the break area gets cleaned up each day? How likely is it that it goes two days without getting cleaned up? All week?\n"
   ]
  },
  {
   "cell_type": "code",
   "execution_count": 45,
   "id": "0289aaf9",
   "metadata": {},
   "outputs": [
    {
     "data": {
      "text/plain": [
       "0.8362274861228873"
      ]
     },
     "execution_count": 45,
     "metadata": {},
     "output_type": "execute_result"
    }
   ],
   "source": [
    "p = 0.03 # any student cleaning the break area\n",
    "\n",
    "total_students = 0.9*3*22\n",
    "\n",
    "p0 = stats.binom(total_students, 0.03).sf(0) # Cleaned each day\n",
    " \n",
    "p0\n"
   ]
  },
  {
   "cell_type": "code",
   "execution_count": 44,
   "id": "cd73eea8",
   "metadata": {},
   "outputs": [
    {
     "data": {
      "text/plain": [
       "<BarContainer object of 13 artists>"
      ]
     },
     "execution_count": 44,
     "metadata": {},
     "output_type": "execute_result"
    },
    {
     "data": {
      "image/png": "[encoded data removed]",
      "text/plain": [
       "<Figure size 432x288 with 1 Axes>"
      ]
     },
     "metadata": {
      "needs_background": "light"
     },
     "output_type": "display_data"
    }
   ],
   "source": [
    "x = np.arange(0,13)\n",
    "y = stats.binom(total_students, p).pmf(x)\n",
    "\n",
    "plt.bar(x,y)"
   ]
  },
  {
   "cell_type": "code",
   "execution_count": 46,
   "id": "ad48249d",
   "metadata": {},
   "outputs": [
    {
     "data": {
      "text/plain": [
       "0.026821436301628983"
      ]
     },
     "execution_count": 46,
     "metadata": {},
     "output_type": "execute_result"
    }
   ],
   "source": [
    "total_students1 = 0.9*3*22*2\n",
    "p2 = stats.binom(total_students1, 0.03).pmf(0)\n",
    "p2"
   ]
  },
  {
   "cell_type": "code",
   "execution_count": 48,
   "id": "dcd5b05c",
   "metadata": {},
   "outputs": [],
   "source": [
    "total_students2 = 0.9*3*22*5"
   ]
  },
  {
   "cell_type": "code",
   "execution_count": 49,
   "id": "169e7ea1",
   "metadata": {},
   "outputs": [
    {
     "data": {
      "text/plain": [
       "0.00011781621791055051"
      ]
     },
     "execution_count": 49,
     "metadata": {},
     "output_type": "execute_result"
    }
   ],
   "source": [
    "p3 = stats.binom(total_students2, 0.03).pmf(0)\n",
    "p3"
   ]
  },
  {
   "cell_type": "markdown",
   "id": "31448993",
   "metadata": {},
   "source": [
    "# 6. You want to get lunch at La Panaderia, but notice that the line is usually very long at lunchtime. After several weeks of careful observation, you notice that the average number of people in line when your lunch break starts is normally distributed with a mean of 15 and standard deviation of 3. If it takes 2 minutes for each person to order, and 10 minutes from ordering to getting your food, what is the likelihood that you have at least 15 minutes left to eat your food before you have to go back to class? Assume you have one hour for lunch, and ignore travel time to and from La Panaderia.\n"
   ]
  },
  {
   "cell_type": "code",
   "execution_count": 66,
   "id": "85280eb6",
   "metadata": {},
   "outputs": [
    {
     "data": {
      "text/plain": [
       "0.6914624612740131"
      ]
     },
     "execution_count": 66,
     "metadata": {},
     "output_type": "execute_result"
    }
   ],
   "source": [
    "μ = 30\n",
    "σ = 6\n",
    "value = 33\n",
    "stats.norm(μ, σ).cdf(value)"
   ]
  },
  {
   "cell_type": "code",
   "execution_count": 9,
   "id": "efa77602",
   "metadata": {},
   "outputs": [
    {
     "data": {
      "text/plain": [
       "0.7475074624530771"
      ]
     },
     "execution_count": 9,
     "metadata": {},
     "output_type": "execute_result"
    }
   ],
   "source": [
    "μ = 40\n",
    "σ = 15\n",
    "value = 50\n",
    "stats.norm(μ, σ).cdf(value)"
   ]
  },
  {
   "cell_type": "code",
   "execution_count": 67,
   "id": "c999e74a",
   "metadata": {},
   "outputs": [
    {
     "data": {
      "text/plain": [
       "<BarContainer object of 60 artists>"
      ]
     },
     "execution_count": 67,
     "metadata": {},
     "output_type": "execute_result"
    },
    {
     "data": {
      "image/png": "[encoded data removed]",
      "text/plain": [
       "<Figure size 432x288 with 1 Axes>"
      ]
     },
     "metadata": {
      "needs_background": "light"
     },
     "output_type": "display_data"
    }
   ],
   "source": [
    "x = np.arange(0,60)\n",
    "y = stats.norm(μ, σ).pdf(x)\n",
    "\n",
    "plt.bar(x,y)"
   ]
  },
  {
   "cell_type": "markdown",
   "id": "7018f3ba",
   "metadata": {},
   "source": [
    "# 7. Connect to the employees database and find the average salary of current employees, along with the standard deviation. For the following questions, calculate the answer based on modeling the employees salaries with a normal distribution defined by the calculated mean and standard deviation then compare this answer to the actual values present in the salaries dataset.\n"
   ]
  },
  {
   "cell_type": "code",
   "execution_count": 1,
   "id": "deb415ac",
   "metadata": {},
   "outputs": [],
   "source": [
    "from env import host, user, password\n",
    "\n",
    "url = f'mysql+pymysql://{user}:{password}@{host}/employees'"
   ]
  },
  {
   "cell_type": "code",
   "execution_count": 12,
   "id": "d9b1eb2d",
   "metadata": {},
   "outputs": [
    {
     "data": {
      "text/html": [
       "<div>\n",
       "<style scoped>\n",
       "    .dataframe tbody tr th:only-of-type {\n",
       "        vertical-align: middle;\n",
       "    }\n",
       "\n",
       "    .dataframe tbody tr th {\n",
       "        vertical-align: top;\n",
       "    }\n",
       "\n",
       "    .dataframe thead th {\n",
       "        text-align: right;\n",
       "    }\n",
       "</style>\n",
       "<table border=\"1\" class=\"dataframe\">\n",
       "  <thead>\n",
       "    <tr style=\"text-align: right;\">\n",
       "      <th></th>\n",
       "      <th>emp_no</th>\n",
       "      <th>birth_date</th>\n",
       "      <th>first_name</th>\n",
       "      <th>last_name</th>\n",
       "      <th>gender</th>\n",
       "      <th>hire_date</th>\n",
       "      <th>emp_no</th>\n",
       "      <th>salary</th>\n",
       "      <th>from_date</th>\n",
       "      <th>to_date</th>\n",
       "    </tr>\n",
       "  </thead>\n",
       "  <tbody>\n",
       "    <tr>\n",
       "      <th>0</th>\n",
       "      <td>10062</td>\n",
       "      <td>1961-11-02</td>\n",
       "      <td>Anoosh</td>\n",
       "      <td>Peyn</td>\n",
       "      <td>M</td>\n",
       "      <td>1991-08-30</td>\n",
       "      <td>10062</td>\n",
       "      <td>68559</td>\n",
       "      <td>2001-08-27</td>\n",
       "      <td>9999-01-01</td>\n",
       "    </tr>\n",
       "    <tr>\n",
       "      <th>1</th>\n",
       "      <td>10063</td>\n",
       "      <td>1952-08-06</td>\n",
       "      <td>Gino</td>\n",
       "      <td>Leonhardt</td>\n",
       "      <td>F</td>\n",
       "      <td>1989-04-08</td>\n",
       "      <td>10063</td>\n",
       "      <td>74841</td>\n",
       "      <td>2002-04-04</td>\n",
       "      <td>9999-01-01</td>\n",
       "    </tr>\n",
       "    <tr>\n",
       "      <th>2</th>\n",
       "      <td>10065</td>\n",
       "      <td>1963-04-14</td>\n",
       "      <td>Satosi</td>\n",
       "      <td>Awdeh</td>\n",
       "      <td>M</td>\n",
       "      <td>1988-05-18</td>\n",
       "      <td>10065</td>\n",
       "      <td>47437</td>\n",
       "      <td>2002-05-23</td>\n",
       "      <td>9999-01-01</td>\n",
       "    </tr>\n",
       "    <tr>\n",
       "      <th>3</th>\n",
       "      <td>10066</td>\n",
       "      <td>1952-11-13</td>\n",
       "      <td>Kwee</td>\n",
       "      <td>Schusler</td>\n",
       "      <td>M</td>\n",
       "      <td>1986-02-26</td>\n",
       "      <td>10066</td>\n",
       "      <td>103672</td>\n",
       "      <td>2002-02-22</td>\n",
       "      <td>9999-01-01</td>\n",
       "    </tr>\n",
       "    <tr>\n",
       "      <th>4</th>\n",
       "      <td>10067</td>\n",
       "      <td>1953-01-07</td>\n",
       "      <td>Claudi</td>\n",
       "      <td>Stavenow</td>\n",
       "      <td>M</td>\n",
       "      <td>1987-03-04</td>\n",
       "      <td>10067</td>\n",
       "      <td>83254</td>\n",
       "      <td>2002-02-28</td>\n",
       "      <td>9999-01-01</td>\n",
       "    </tr>\n",
       "  </tbody>\n",
       "</table>\n",
       "</div>"
      ],
      "text/plain": [
       "   emp_no  birth_date first_name  last_name gender   hire_date  emp_no  \\\n",
       "0   10062  1961-11-02     Anoosh       Peyn      M  1991-08-30   10062   \n",
       "1   10063  1952-08-06       Gino  Leonhardt      F  1989-04-08   10063   \n",
       "2   10065  1963-04-14     Satosi      Awdeh      M  1988-05-18   10065   \n",
       "3   10066  1952-11-13       Kwee   Schusler      M  1986-02-26   10066   \n",
       "4   10067  1953-01-07     Claudi   Stavenow      M  1987-03-04   10067   \n",
       "\n",
       "   salary   from_date     to_date  \n",
       "0   68559  2001-08-27  9999-01-01  \n",
       "1   74841  2002-04-04  9999-01-01  \n",
       "2   47437  2002-05-23  9999-01-01  \n",
       "3  103672  2002-02-22  9999-01-01  \n",
       "4   83254  2002-02-28  9999-01-01  "
      ]
     },
     "execution_count": 12,
     "metadata": {},
     "output_type": "execute_result"
    }
   ],
   "source": [
    "df_emp =pd.read_sql('''select * from employees as e join salaries as s on s.emp_no = e.emp_no where to_date > curdate() LIMIT 5 OFFSET 50''', url)\n",
    "df_emp"
   ]
  },
  {
   "cell_type": "code",
   "execution_count": 15,
   "id": "9ed2a8ef",
   "metadata": {},
   "outputs": [
    {
     "data": {
      "text/plain": [
       "20554.29393825047"
      ]
     },
     "execution_count": 15,
     "metadata": {},
     "output_type": "execute_result"
    }
   ],
   "source": [
    "σ = df_emp.salary.std()\n",
    "σ"
   ]
  },
  {
   "cell_type": "code",
   "execution_count": 17,
   "id": "52342785",
   "metadata": {},
   "outputs": [
    {
     "data": {
      "text/plain": [
       "75552.6"
      ]
     },
     "execution_count": 17,
     "metadata": {},
     "output_type": "execute_result"
    }
   ],
   "source": [
    "mean_salary = df_emp.salary.mean()\n",
    "mean_salary"
   ]
  },
  {
   "cell_type": "markdown",
   "id": "69f4e9d8",
   "metadata": {},
   "source": [
    "- a. What percent of employees earn less than 60,000?"
   ]
  },
  {
   "cell_type": "code",
   "execution_count": 23,
   "id": "1dba5664",
   "metadata": {},
   "outputs": [
    {
     "data": {
      "text/plain": [
       "22.462696812264088"
      ]
     },
     "execution_count": 23,
     "metadata": {},
     "output_type": "execute_result"
    }
   ],
   "source": [
    "stats.norm(mean_salary, σ).cdf(60000)*100"
   ]
  },
  {
   "cell_type": "markdown",
   "id": "c9aecd35",
   "metadata": {},
   "source": [
    "- b. What percent of employees earn more than 95,000?"
   ]
  },
  {
   "cell_type": "code",
   "execution_count": 24,
   "id": "98168fa9",
   "metadata": {},
   "outputs": [
    {
     "data": {
      "text/plain": [
       "17.203660303924167"
      ]
     },
     "execution_count": 24,
     "metadata": {},
     "output_type": "execute_result"
    }
   ],
   "source": [
    "stats.norm(mean_salary, σ).sf(95000)*100"
   ]
  },
  {
   "cell_type": "markdown",
   "id": "8f4cf1a2",
   "metadata": {},
   "source": [
    "- c. What percent of employees earn between 65,000 and 80,000?"
   ]
  },
  {
   "cell_type": "code",
   "execution_count": 25,
   "id": "9c95044f",
   "metadata": {},
   "outputs": [
    {
     "data": {
      "text/plain": [
       "28.181626473022124"
      ]
     },
     "execution_count": 25,
     "metadata": {},
     "output_type": "execute_result"
    }
   ],
   "source": [
    "(stats.norm(mean_salary, σ).cdf(80000) - stats.norm(mean_salary, σ).cdf(65000))*100"
   ]
  },
  {
   "cell_type": "markdown",
   "id": "22a8b5d4",
   "metadata": {},
   "source": [
    "- d. What do the top 5% of employees make?"
   ]
  },
  {
   "cell_type": "code",
   "execution_count": 22,
   "id": "c93bf1c6",
   "metadata": {},
   "outputs": [
    {
     "data": {
      "text/plain": [
       "109361.40493375796"
      ]
     },
     "execution_count": 22,
     "metadata": {},
     "output_type": "execute_result"
    }
   ],
   "source": [
    "stats.norm(mean_salary, σ).isf(0.05)"
   ]
  },
  {
   "cell_type": "markdown",
   "id": "bfe97ff5",
   "metadata": {},
   "source": [
    "# Hint If you're looking at this exercise and wondering \"How do I get pandas to talk the database, again?\", remember that you'll need 3 things: your .gitignore, your env.py, and to use pd.read_sql.\n"
   ]
  },
  {
   "cell_type": "markdown",
   "id": "308fa53b",
   "metadata": {},
   "source": [
    "# Be sure to run the following 2 commands from your terminal: 1. cp ~/codeup-data-science/numpy-pandas-visualization-exercises/.gitignore ~/codeup-data-science/statistics-exercises to ensure that your stats repo has a known-good gitignore 2. cp ~/codeup-data-science/numpy-pandas-exercises/env.py ~/codeup-data-science/statistics-exercises to ensure that pandas will have access to your db credentials."
   ]
  },
  {
   "cell_type": "code",
   "execution_count": null,
   "id": "35d91e5c",
   "metadata": {},
   "outputs": [],
   "source": []
  }
 ],
 "metadata": {
  "kernelspec": {
   "display_name": "Python 3 (ipykernel)",
   "language": "python",
   "name": "python3"
  },
  "language_info": {
   "codemirror_mode": {
    "name": "ipython",
    "version": 3
   },
   "file_extension": ".py",
   "mimetype": "text/x-python",
   "name": "python",
   "nbconvert_exporter": "python",
   "pygments_lexer": "ipython3",
   "version": "3.8.8"
  }
 },
 "nbformat": 4,
 "nbformat_minor": 5
}
